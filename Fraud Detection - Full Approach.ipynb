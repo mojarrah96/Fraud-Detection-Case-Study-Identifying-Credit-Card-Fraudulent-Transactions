{
 "cells": [
  {
   "cell_type": "code",
   "execution_count": 215,
   "metadata": {},
   "outputs": [],
   "source": [
    "import pandas as pd\n",
    "import numpy as np  \n",
    "import matplotlib.pyplot as plt\n",
    "import seaborn as sns\n",
    "from sklearn.preprocessing import LabelEncoder\n",
    "from sklearn.model_selection import train_test_split\n",
    "from sklearn.ensemble import RandomForestClassifier\n",
    "from sklearn.linear_model import LogisticRegression\n",
    "from sklearn.ensemble import GradientBoostingClassifier\n",
    "from sklearn.neighbors import KNeighborsClassifier\n",
    "from sklearn.metrics import accuracy_score, precision_score, recall_score, f1_score, classification_report\n",
    "from imblearn.over_sampling import SMOTE\n",
    "from sklearn.model_selection import GridSearchCV\n",
    "import seaborn as sn"
   ]
  },
  {
   "cell_type": "code",
   "execution_count": 216,
   "metadata": {},
   "outputs": [],
   "source": [
    "data = pd.read_csv(r'Documents\\fraud.csv')\n",
    "# data = pd.read_csv(r'C:\\Users\\omar elayan\\OneDrive\\Documents\\fraud.csv')"
   ]
  },
  {
   "cell_type": "code",
   "execution_count": 217,
   "metadata": {},
   "outputs": [
    {
     "data": {
      "text/html": [
       "<div>\n",
       "<style scoped>\n",
       "    .dataframe tbody tr th:only-of-type {\n",
       "        vertical-align: middle;\n",
       "    }\n",
       "\n",
       "    .dataframe tbody tr th {\n",
       "        vertical-align: top;\n",
       "    }\n",
       "\n",
       "    .dataframe thead th {\n",
       "        text-align: right;\n",
       "    }\n",
       "</style>\n",
       "<table border=\"1\" class=\"dataframe\">\n",
       "  <thead>\n",
       "    <tr style=\"text-align: right;\">\n",
       "      <th></th>\n",
       "      <th>step</th>\n",
       "      <th>customer</th>\n",
       "      <th>age</th>\n",
       "      <th>gender</th>\n",
       "      <th>zipcodeOri</th>\n",
       "      <th>merchant</th>\n",
       "      <th>zipMerchant</th>\n",
       "      <th>category</th>\n",
       "      <th>amount</th>\n",
       "      <th>fraud</th>\n",
       "    </tr>\n",
       "  </thead>\n",
       "  <tbody>\n",
       "    <tr>\n",
       "      <th>0</th>\n",
       "      <td>0</td>\n",
       "      <td>'C1093826151'</td>\n",
       "      <td>'4'</td>\n",
       "      <td>'M'</td>\n",
       "      <td>'28007'</td>\n",
       "      <td>'M348934600'</td>\n",
       "      <td>'28007'</td>\n",
       "      <td>'es_transportation'</td>\n",
       "      <td>4.55</td>\n",
       "      <td>0</td>\n",
       "    </tr>\n",
       "    <tr>\n",
       "      <th>1</th>\n",
       "      <td>0</td>\n",
       "      <td>'C352968107'</td>\n",
       "      <td>'2'</td>\n",
       "      <td>'M'</td>\n",
       "      <td>'28007'</td>\n",
       "      <td>'M348934600'</td>\n",
       "      <td>'28007'</td>\n",
       "      <td>'es_transportation'</td>\n",
       "      <td>39.68</td>\n",
       "      <td>0</td>\n",
       "    </tr>\n",
       "    <tr>\n",
       "      <th>2</th>\n",
       "      <td>0</td>\n",
       "      <td>'C2054744914'</td>\n",
       "      <td>'4'</td>\n",
       "      <td>'F'</td>\n",
       "      <td>'28007'</td>\n",
       "      <td>'M1823072687'</td>\n",
       "      <td>'28007'</td>\n",
       "      <td>'es_transportation'</td>\n",
       "      <td>26.89</td>\n",
       "      <td>0</td>\n",
       "    </tr>\n",
       "    <tr>\n",
       "      <th>3</th>\n",
       "      <td>0</td>\n",
       "      <td>'C1760612790'</td>\n",
       "      <td>'3'</td>\n",
       "      <td>'M'</td>\n",
       "      <td>'28007'</td>\n",
       "      <td>'M348934600'</td>\n",
       "      <td>'28007'</td>\n",
       "      <td>'es_transportation'</td>\n",
       "      <td>17.25</td>\n",
       "      <td>0</td>\n",
       "    </tr>\n",
       "    <tr>\n",
       "      <th>4</th>\n",
       "      <td>0</td>\n",
       "      <td>'C757503768'</td>\n",
       "      <td>'5'</td>\n",
       "      <td>'M'</td>\n",
       "      <td>'28007'</td>\n",
       "      <td>'M348934600'</td>\n",
       "      <td>'28007'</td>\n",
       "      <td>'es_transportation'</td>\n",
       "      <td>35.72</td>\n",
       "      <td>0</td>\n",
       "    </tr>\n",
       "    <tr>\n",
       "      <th>...</th>\n",
       "      <td>...</td>\n",
       "      <td>...</td>\n",
       "      <td>...</td>\n",
       "      <td>...</td>\n",
       "      <td>...</td>\n",
       "      <td>...</td>\n",
       "      <td>...</td>\n",
       "      <td>...</td>\n",
       "      <td>...</td>\n",
       "      <td>...</td>\n",
       "    </tr>\n",
       "    <tr>\n",
       "      <th>594638</th>\n",
       "      <td>179</td>\n",
       "      <td>'C1753498738'</td>\n",
       "      <td>'3'</td>\n",
       "      <td>'F'</td>\n",
       "      <td>'28007'</td>\n",
       "      <td>'M1823072687'</td>\n",
       "      <td>'28007'</td>\n",
       "      <td>'es_transportation'</td>\n",
       "      <td>20.53</td>\n",
       "      <td>0</td>\n",
       "    </tr>\n",
       "    <tr>\n",
       "      <th>594639</th>\n",
       "      <td>179</td>\n",
       "      <td>'C650108285'</td>\n",
       "      <td>'4'</td>\n",
       "      <td>'F'</td>\n",
       "      <td>'28007'</td>\n",
       "      <td>'M1823072687'</td>\n",
       "      <td>'28007'</td>\n",
       "      <td>'es_transportation'</td>\n",
       "      <td>50.73</td>\n",
       "      <td>0</td>\n",
       "    </tr>\n",
       "    <tr>\n",
       "      <th>594640</th>\n",
       "      <td>179</td>\n",
       "      <td>'C123623130'</td>\n",
       "      <td>'2'</td>\n",
       "      <td>'F'</td>\n",
       "      <td>'28007'</td>\n",
       "      <td>'M349281107'</td>\n",
       "      <td>'28007'</td>\n",
       "      <td>'es_fashion'</td>\n",
       "      <td>22.44</td>\n",
       "      <td>0</td>\n",
       "    </tr>\n",
       "    <tr>\n",
       "      <th>594641</th>\n",
       "      <td>179</td>\n",
       "      <td>'C1499363341'</td>\n",
       "      <td>'5'</td>\n",
       "      <td>'M'</td>\n",
       "      <td>'28007'</td>\n",
       "      <td>'M1823072687'</td>\n",
       "      <td>'28007'</td>\n",
       "      <td>'es_transportation'</td>\n",
       "      <td>14.46</td>\n",
       "      <td>0</td>\n",
       "    </tr>\n",
       "    <tr>\n",
       "      <th>594642</th>\n",
       "      <td>179</td>\n",
       "      <td>'C616528518'</td>\n",
       "      <td>'4'</td>\n",
       "      <td>'F'</td>\n",
       "      <td>'28007'</td>\n",
       "      <td>'M1823072687'</td>\n",
       "      <td>'28007'</td>\n",
       "      <td>'es_transportation'</td>\n",
       "      <td>26.93</td>\n",
       "      <td>0</td>\n",
       "    </tr>\n",
       "  </tbody>\n",
       "</table>\n",
       "<p>594643 rows × 10 columns</p>\n",
       "</div>"
      ],
      "text/plain": [
       "        step       customer  age gender zipcodeOri       merchant zipMerchant  \\\n",
       "0          0  'C1093826151'  '4'    'M'    '28007'   'M348934600'     '28007'   \n",
       "1          0   'C352968107'  '2'    'M'    '28007'   'M348934600'     '28007'   \n",
       "2          0  'C2054744914'  '4'    'F'    '28007'  'M1823072687'     '28007'   \n",
       "3          0  'C1760612790'  '3'    'M'    '28007'   'M348934600'     '28007'   \n",
       "4          0   'C757503768'  '5'    'M'    '28007'   'M348934600'     '28007'   \n",
       "...      ...            ...  ...    ...        ...            ...         ...   \n",
       "594638   179  'C1753498738'  '3'    'F'    '28007'  'M1823072687'     '28007'   \n",
       "594639   179   'C650108285'  '4'    'F'    '28007'  'M1823072687'     '28007'   \n",
       "594640   179   'C123623130'  '2'    'F'    '28007'   'M349281107'     '28007'   \n",
       "594641   179  'C1499363341'  '5'    'M'    '28007'  'M1823072687'     '28007'   \n",
       "594642   179   'C616528518'  '4'    'F'    '28007'  'M1823072687'     '28007'   \n",
       "\n",
       "                   category  amount  fraud  \n",
       "0       'es_transportation'    4.55      0  \n",
       "1       'es_transportation'   39.68      0  \n",
       "2       'es_transportation'   26.89      0  \n",
       "3       'es_transportation'   17.25      0  \n",
       "4       'es_transportation'   35.72      0  \n",
       "...                     ...     ...    ...  \n",
       "594638  'es_transportation'   20.53      0  \n",
       "594639  'es_transportation'   50.73      0  \n",
       "594640         'es_fashion'   22.44      0  \n",
       "594641  'es_transportation'   14.46      0  \n",
       "594642  'es_transportation'   26.93      0  \n",
       "\n",
       "[594643 rows x 10 columns]"
      ]
     },
     "execution_count": 217,
     "metadata": {},
     "output_type": "execute_result"
    }
   ],
   "source": [
    "data"
   ]
  },
  {
   "cell_type": "code",
   "execution_count": null,
   "metadata": {},
   "outputs": [],
   "source": []
  },
  {
   "cell_type": "markdown",
   "metadata": {},
   "source": [
    "# Data Preprocessing"
   ]
  },
  {
   "cell_type": "code",
   "execution_count": 218,
   "metadata": {},
   "outputs": [
    {
     "data": {
      "text/plain": [
       "Index(['step', 'customer', 'age', 'gender', 'zipcodeOri', 'merchant',\n",
       "       'zipMerchant', 'category', 'amount', 'fraud'],\n",
       "      dtype='object')"
      ]
     },
     "execution_count": 218,
     "metadata": {},
     "output_type": "execute_result"
    }
   ],
   "source": [
    "data.columns"
   ]
  },
  {
   "cell_type": "raw",
   "metadata": {},
   "source": [
    "columns desc:\n",
    "    step: Maps a unit of time in the real world. 1 step = 1 hour of time.\n",
    "    customer: Unique customer ID associated with each transaction.\n",
    "    age: Categorized age of the customer:\n",
    "    gender: Gender of the customer:\n",
    "    zipcode: The zip code of the transaction origin/source.\n",
    "    merchant: The unique ID of the merchant involved in the transaction.\n",
    "    zipmerchant: The zip code of the merchant.\n",
    "    category: Category of the purchase.\n",
    "    amount: The amount of the purchase.\n",
    "    fraud: Target variable: 1 if transaction is fraudulent, 0 if benign."
   ]
  },
  {
   "cell_type": "code",
   "execution_count": 219,
   "metadata": {},
   "outputs": [
    {
     "data": {
      "text/plain": [
       "<bound method DataFrame.info of         step       customer  age gender zipcodeOri       merchant zipMerchant  \\\n",
       "0          0  'C1093826151'  '4'    'M'    '28007'   'M348934600'     '28007'   \n",
       "1          0   'C352968107'  '2'    'M'    '28007'   'M348934600'     '28007'   \n",
       "2          0  'C2054744914'  '4'    'F'    '28007'  'M1823072687'     '28007'   \n",
       "3          0  'C1760612790'  '3'    'M'    '28007'   'M348934600'     '28007'   \n",
       "4          0   'C757503768'  '5'    'M'    '28007'   'M348934600'     '28007'   \n",
       "...      ...            ...  ...    ...        ...            ...         ...   \n",
       "594638   179  'C1753498738'  '3'    'F'    '28007'  'M1823072687'     '28007'   \n",
       "594639   179   'C650108285'  '4'    'F'    '28007'  'M1823072687'     '28007'   \n",
       "594640   179   'C123623130'  '2'    'F'    '28007'   'M349281107'     '28007'   \n",
       "594641   179  'C1499363341'  '5'    'M'    '28007'  'M1823072687'     '28007'   \n",
       "594642   179   'C616528518'  '4'    'F'    '28007'  'M1823072687'     '28007'   \n",
       "\n",
       "                   category  amount  fraud  \n",
       "0       'es_transportation'    4.55      0  \n",
       "1       'es_transportation'   39.68      0  \n",
       "2       'es_transportation'   26.89      0  \n",
       "3       'es_transportation'   17.25      0  \n",
       "4       'es_transportation'   35.72      0  \n",
       "...                     ...     ...    ...  \n",
       "594638  'es_transportation'   20.53      0  \n",
       "594639  'es_transportation'   50.73      0  \n",
       "594640         'es_fashion'   22.44      0  \n",
       "594641  'es_transportation'   14.46      0  \n",
       "594642  'es_transportation'   26.93      0  \n",
       "\n",
       "[594643 rows x 10 columns]>"
      ]
     },
     "execution_count": 219,
     "metadata": {},
     "output_type": "execute_result"
    }
   ],
   "source": [
    "#Getting information about the data\n",
    "data.info"
   ]
  },
  {
   "cell_type": "code",
   "execution_count": 220,
   "metadata": {},
   "outputs": [
    {
     "data": {
      "text/html": [
       "<div>\n",
       "<style scoped>\n",
       "    .dataframe tbody tr th:only-of-type {\n",
       "        vertical-align: middle;\n",
       "    }\n",
       "\n",
       "    .dataframe tbody tr th {\n",
       "        vertical-align: top;\n",
       "    }\n",
       "\n",
       "    .dataframe thead th {\n",
       "        text-align: right;\n",
       "    }\n",
       "</style>\n",
       "<table border=\"1\" class=\"dataframe\">\n",
       "  <thead>\n",
       "    <tr style=\"text-align: right;\">\n",
       "      <th></th>\n",
       "      <th>step</th>\n",
       "      <th>amount</th>\n",
       "      <th>fraud</th>\n",
       "    </tr>\n",
       "  </thead>\n",
       "  <tbody>\n",
       "    <tr>\n",
       "      <th>count</th>\n",
       "      <td>594643.000000</td>\n",
       "      <td>594643.000000</td>\n",
       "      <td>594643.000000</td>\n",
       "    </tr>\n",
       "    <tr>\n",
       "      <th>mean</th>\n",
       "      <td>94.986827</td>\n",
       "      <td>37.890135</td>\n",
       "      <td>0.012108</td>\n",
       "    </tr>\n",
       "    <tr>\n",
       "      <th>std</th>\n",
       "      <td>51.053632</td>\n",
       "      <td>111.402831</td>\n",
       "      <td>0.109369</td>\n",
       "    </tr>\n",
       "    <tr>\n",
       "      <th>min</th>\n",
       "      <td>0.000000</td>\n",
       "      <td>0.000000</td>\n",
       "      <td>0.000000</td>\n",
       "    </tr>\n",
       "    <tr>\n",
       "      <th>25%</th>\n",
       "      <td>52.000000</td>\n",
       "      <td>13.740000</td>\n",
       "      <td>0.000000</td>\n",
       "    </tr>\n",
       "    <tr>\n",
       "      <th>50%</th>\n",
       "      <td>97.000000</td>\n",
       "      <td>26.900000</td>\n",
       "      <td>0.000000</td>\n",
       "    </tr>\n",
       "    <tr>\n",
       "      <th>75%</th>\n",
       "      <td>139.000000</td>\n",
       "      <td>42.540000</td>\n",
       "      <td>0.000000</td>\n",
       "    </tr>\n",
       "    <tr>\n",
       "      <th>max</th>\n",
       "      <td>179.000000</td>\n",
       "      <td>8329.960000</td>\n",
       "      <td>1.000000</td>\n",
       "    </tr>\n",
       "  </tbody>\n",
       "</table>\n",
       "</div>"
      ],
      "text/plain": [
       "                step         amount          fraud\n",
       "count  594643.000000  594643.000000  594643.000000\n",
       "mean       94.986827      37.890135       0.012108\n",
       "std        51.053632     111.402831       0.109369\n",
       "min         0.000000       0.000000       0.000000\n",
       "25%        52.000000      13.740000       0.000000\n",
       "50%        97.000000      26.900000       0.000000\n",
       "75%       139.000000      42.540000       0.000000\n",
       "max       179.000000    8329.960000       1.000000"
      ]
     },
     "execution_count": 220,
     "metadata": {},
     "output_type": "execute_result"
    }
   ],
   "source": [
    "data.describe()"
   ]
  },
  {
   "cell_type": "code",
   "execution_count": null,
   "metadata": {},
   "outputs": [],
   "source": []
  },
  {
   "cell_type": "code",
   "execution_count": 221,
   "metadata": {},
   "outputs": [
    {
     "data": {
      "text/plain": [
       "'2'    187310\n",
       "'3'    147131\n",
       "'4'    109025\n",
       "'5'     62642\n",
       "'1'     58131\n",
       "'6'     26774\n",
       "'0'      2452\n",
       "'U'      1178\n",
       "Name: age, dtype: int64"
      ]
     },
     "execution_count": 221,
     "metadata": {},
     "output_type": "execute_result"
    }
   ],
   "source": [
    "data['age'].value_counts()"
   ]
  },
  {
   "cell_type": "code",
   "execution_count": 222,
   "metadata": {},
   "outputs": [
    {
     "data": {
      "text/plain": [
       "'F'    324565\n",
       "'M'    268385\n",
       "'E'      1178\n",
       "'U'       515\n",
       "Name: gender, dtype: int64"
      ]
     },
     "execution_count": 222,
     "metadata": {},
     "output_type": "execute_result"
    }
   ],
   "source": [
    "data['gender'].value_counts()"
   ]
  },
  {
   "cell_type": "code",
   "execution_count": null,
   "metadata": {},
   "outputs": [],
   "source": []
  },
  {
   "cell_type": "markdown",
   "metadata": {},
   "source": [
    "Checking Missing Values in the Dataset!"
   ]
  },
  {
   "cell_type": "code",
   "execution_count": 223,
   "metadata": {},
   "outputs": [
    {
     "data": {
      "text/plain": [
       "step           0\n",
       "customer       0\n",
       "age            0\n",
       "gender         0\n",
       "zipcodeOri     0\n",
       "merchant       0\n",
       "zipMerchant    0\n",
       "category       0\n",
       "amount         0\n",
       "fraud          0\n",
       "dtype: int64"
      ]
     },
     "execution_count": 223,
     "metadata": {},
     "output_type": "execute_result"
    }
   ],
   "source": [
    "#There are no missing values in te dataset\n",
    "\n",
    "data.isnull().sum()"
   ]
  },
  {
   "cell_type": "code",
   "execution_count": 224,
   "metadata": {},
   "outputs": [
    {
     "data": {
      "text/plain": [
       "False"
      ]
     },
     "execution_count": 224,
     "metadata": {},
     "output_type": "execute_result"
    }
   ],
   "source": [
    "data.isnull().values.any()"
   ]
  },
  {
   "cell_type": "markdown",
   "metadata": {},
   "source": [
    "Checking the correlation between the features and the target"
   ]
  },
  {
   "cell_type": "code",
   "execution_count": 225,
   "metadata": {},
   "outputs": [
    {
     "data": {
      "text/plain": [
       "step     -0.011898\n",
       "amount    0.489967\n",
       "fraud     1.000000\n",
       "Name: fraud, dtype: float64"
      ]
     },
     "execution_count": 225,
     "metadata": {},
     "output_type": "execute_result"
    }
   ],
   "source": [
    "data.corr()[\"fraud\"].sort_values()"
   ]
  },
  {
   "cell_type": "code",
   "execution_count": null,
   "metadata": {},
   "outputs": [],
   "source": []
  },
  {
   "cell_type": "markdown",
   "metadata": {},
   "source": [
    "Encoding Categorical Features"
   ]
  },
  {
   "cell_type": "code",
   "execution_count": 226,
   "metadata": {},
   "outputs": [],
   "source": [
    "#(Age) is an (ordinal categorical variable) with order, so we'll use (Label Encoding)\n",
    "\n",
    "label_encoder = LabelEncoder()\n",
    "data['encoded_age'] = label_encoder.fit_transform(data['age'])\n",
    "\n",
    "#drop the categorical age\n",
    "data = data.drop(columns=['age'])"
   ]
  },
  {
   "cell_type": "code",
   "execution_count": 227,
   "metadata": {},
   "outputs": [],
   "source": [
    "#(Gender) is a (nominal categorical variable) with no order, so we'll use (One-Hot Encoding)\n",
    "\n",
    "data = pd.get_dummies(data, columns=['gender'], prefix='gender')"
   ]
  },
  {
   "cell_type": "code",
   "execution_count": 228,
   "metadata": {},
   "outputs": [
    {
     "data": {
      "text/html": [
       "<div>\n",
       "<style scoped>\n",
       "    .dataframe tbody tr th:only-of-type {\n",
       "        vertical-align: middle;\n",
       "    }\n",
       "\n",
       "    .dataframe tbody tr th {\n",
       "        vertical-align: top;\n",
       "    }\n",
       "\n",
       "    .dataframe thead th {\n",
       "        text-align: right;\n",
       "    }\n",
       "</style>\n",
       "<table border=\"1\" class=\"dataframe\">\n",
       "  <thead>\n",
       "    <tr style=\"text-align: right;\">\n",
       "      <th></th>\n",
       "      <th>step</th>\n",
       "      <th>customer</th>\n",
       "      <th>zipcodeOri</th>\n",
       "      <th>merchant</th>\n",
       "      <th>zipMerchant</th>\n",
       "      <th>category</th>\n",
       "      <th>amount</th>\n",
       "      <th>fraud</th>\n",
       "      <th>encoded_age</th>\n",
       "      <th>gender_'E'</th>\n",
       "      <th>gender_'F'</th>\n",
       "      <th>gender_'M'</th>\n",
       "      <th>gender_'U'</th>\n",
       "    </tr>\n",
       "  </thead>\n",
       "  <tbody>\n",
       "    <tr>\n",
       "      <th>0</th>\n",
       "      <td>0</td>\n",
       "      <td>'C1093826151'</td>\n",
       "      <td>'28007'</td>\n",
       "      <td>'M348934600'</td>\n",
       "      <td>'28007'</td>\n",
       "      <td>'es_transportation'</td>\n",
       "      <td>4.55</td>\n",
       "      <td>0</td>\n",
       "      <td>4</td>\n",
       "      <td>0</td>\n",
       "      <td>0</td>\n",
       "      <td>1</td>\n",
       "      <td>0</td>\n",
       "    </tr>\n",
       "    <tr>\n",
       "      <th>1</th>\n",
       "      <td>0</td>\n",
       "      <td>'C352968107'</td>\n",
       "      <td>'28007'</td>\n",
       "      <td>'M348934600'</td>\n",
       "      <td>'28007'</td>\n",
       "      <td>'es_transportation'</td>\n",
       "      <td>39.68</td>\n",
       "      <td>0</td>\n",
       "      <td>2</td>\n",
       "      <td>0</td>\n",
       "      <td>0</td>\n",
       "      <td>1</td>\n",
       "      <td>0</td>\n",
       "    </tr>\n",
       "    <tr>\n",
       "      <th>2</th>\n",
       "      <td>0</td>\n",
       "      <td>'C2054744914'</td>\n",
       "      <td>'28007'</td>\n",
       "      <td>'M1823072687'</td>\n",
       "      <td>'28007'</td>\n",
       "      <td>'es_transportation'</td>\n",
       "      <td>26.89</td>\n",
       "      <td>0</td>\n",
       "      <td>4</td>\n",
       "      <td>0</td>\n",
       "      <td>1</td>\n",
       "      <td>0</td>\n",
       "      <td>0</td>\n",
       "    </tr>\n",
       "    <tr>\n",
       "      <th>3</th>\n",
       "      <td>0</td>\n",
       "      <td>'C1760612790'</td>\n",
       "      <td>'28007'</td>\n",
       "      <td>'M348934600'</td>\n",
       "      <td>'28007'</td>\n",
       "      <td>'es_transportation'</td>\n",
       "      <td>17.25</td>\n",
       "      <td>0</td>\n",
       "      <td>3</td>\n",
       "      <td>0</td>\n",
       "      <td>0</td>\n",
       "      <td>1</td>\n",
       "      <td>0</td>\n",
       "    </tr>\n",
       "    <tr>\n",
       "      <th>4</th>\n",
       "      <td>0</td>\n",
       "      <td>'C757503768'</td>\n",
       "      <td>'28007'</td>\n",
       "      <td>'M348934600'</td>\n",
       "      <td>'28007'</td>\n",
       "      <td>'es_transportation'</td>\n",
       "      <td>35.72</td>\n",
       "      <td>0</td>\n",
       "      <td>5</td>\n",
       "      <td>0</td>\n",
       "      <td>0</td>\n",
       "      <td>1</td>\n",
       "      <td>0</td>\n",
       "    </tr>\n",
       "    <tr>\n",
       "      <th>...</th>\n",
       "      <td>...</td>\n",
       "      <td>...</td>\n",
       "      <td>...</td>\n",
       "      <td>...</td>\n",
       "      <td>...</td>\n",
       "      <td>...</td>\n",
       "      <td>...</td>\n",
       "      <td>...</td>\n",
       "      <td>...</td>\n",
       "      <td>...</td>\n",
       "      <td>...</td>\n",
       "      <td>...</td>\n",
       "      <td>...</td>\n",
       "    </tr>\n",
       "    <tr>\n",
       "      <th>594638</th>\n",
       "      <td>179</td>\n",
       "      <td>'C1753498738'</td>\n",
       "      <td>'28007'</td>\n",
       "      <td>'M1823072687'</td>\n",
       "      <td>'28007'</td>\n",
       "      <td>'es_transportation'</td>\n",
       "      <td>20.53</td>\n",
       "      <td>0</td>\n",
       "      <td>3</td>\n",
       "      <td>0</td>\n",
       "      <td>1</td>\n",
       "      <td>0</td>\n",
       "      <td>0</td>\n",
       "    </tr>\n",
       "    <tr>\n",
       "      <th>594639</th>\n",
       "      <td>179</td>\n",
       "      <td>'C650108285'</td>\n",
       "      <td>'28007'</td>\n",
       "      <td>'M1823072687'</td>\n",
       "      <td>'28007'</td>\n",
       "      <td>'es_transportation'</td>\n",
       "      <td>50.73</td>\n",
       "      <td>0</td>\n",
       "      <td>4</td>\n",
       "      <td>0</td>\n",
       "      <td>1</td>\n",
       "      <td>0</td>\n",
       "      <td>0</td>\n",
       "    </tr>\n",
       "    <tr>\n",
       "      <th>594640</th>\n",
       "      <td>179</td>\n",
       "      <td>'C123623130'</td>\n",
       "      <td>'28007'</td>\n",
       "      <td>'M349281107'</td>\n",
       "      <td>'28007'</td>\n",
       "      <td>'es_fashion'</td>\n",
       "      <td>22.44</td>\n",
       "      <td>0</td>\n",
       "      <td>2</td>\n",
       "      <td>0</td>\n",
       "      <td>1</td>\n",
       "      <td>0</td>\n",
       "      <td>0</td>\n",
       "    </tr>\n",
       "    <tr>\n",
       "      <th>594641</th>\n",
       "      <td>179</td>\n",
       "      <td>'C1499363341'</td>\n",
       "      <td>'28007'</td>\n",
       "      <td>'M1823072687'</td>\n",
       "      <td>'28007'</td>\n",
       "      <td>'es_transportation'</td>\n",
       "      <td>14.46</td>\n",
       "      <td>0</td>\n",
       "      <td>5</td>\n",
       "      <td>0</td>\n",
       "      <td>0</td>\n",
       "      <td>1</td>\n",
       "      <td>0</td>\n",
       "    </tr>\n",
       "    <tr>\n",
       "      <th>594642</th>\n",
       "      <td>179</td>\n",
       "      <td>'C616528518'</td>\n",
       "      <td>'28007'</td>\n",
       "      <td>'M1823072687'</td>\n",
       "      <td>'28007'</td>\n",
       "      <td>'es_transportation'</td>\n",
       "      <td>26.93</td>\n",
       "      <td>0</td>\n",
       "      <td>4</td>\n",
       "      <td>0</td>\n",
       "      <td>1</td>\n",
       "      <td>0</td>\n",
       "      <td>0</td>\n",
       "    </tr>\n",
       "  </tbody>\n",
       "</table>\n",
       "<p>594643 rows × 13 columns</p>\n",
       "</div>"
      ],
      "text/plain": [
       "        step       customer zipcodeOri       merchant zipMerchant  \\\n",
       "0          0  'C1093826151'    '28007'   'M348934600'     '28007'   \n",
       "1          0   'C352968107'    '28007'   'M348934600'     '28007'   \n",
       "2          0  'C2054744914'    '28007'  'M1823072687'     '28007'   \n",
       "3          0  'C1760612790'    '28007'   'M348934600'     '28007'   \n",
       "4          0   'C757503768'    '28007'   'M348934600'     '28007'   \n",
       "...      ...            ...        ...            ...         ...   \n",
       "594638   179  'C1753498738'    '28007'  'M1823072687'     '28007'   \n",
       "594639   179   'C650108285'    '28007'  'M1823072687'     '28007'   \n",
       "594640   179   'C123623130'    '28007'   'M349281107'     '28007'   \n",
       "594641   179  'C1499363341'    '28007'  'M1823072687'     '28007'   \n",
       "594642   179   'C616528518'    '28007'  'M1823072687'     '28007'   \n",
       "\n",
       "                   category  amount  fraud  encoded_age  gender_'E'  \\\n",
       "0       'es_transportation'    4.55      0            4           0   \n",
       "1       'es_transportation'   39.68      0            2           0   \n",
       "2       'es_transportation'   26.89      0            4           0   \n",
       "3       'es_transportation'   17.25      0            3           0   \n",
       "4       'es_transportation'   35.72      0            5           0   \n",
       "...                     ...     ...    ...          ...         ...   \n",
       "594638  'es_transportation'   20.53      0            3           0   \n",
       "594639  'es_transportation'   50.73      0            4           0   \n",
       "594640         'es_fashion'   22.44      0            2           0   \n",
       "594641  'es_transportation'   14.46      0            5           0   \n",
       "594642  'es_transportation'   26.93      0            4           0   \n",
       "\n",
       "        gender_'F'  gender_'M'  gender_'U'  \n",
       "0                0           1           0  \n",
       "1                0           1           0  \n",
       "2                1           0           0  \n",
       "3                0           1           0  \n",
       "4                0           1           0  \n",
       "...            ...         ...         ...  \n",
       "594638           1           0           0  \n",
       "594639           1           0           0  \n",
       "594640           1           0           0  \n",
       "594641           0           1           0  \n",
       "594642           1           0           0  \n",
       "\n",
       "[594643 rows x 13 columns]"
      ]
     },
     "execution_count": 228,
     "metadata": {},
     "output_type": "execute_result"
    }
   ],
   "source": [
    "data"
   ]
  },
  {
   "cell_type": "code",
   "execution_count": null,
   "metadata": {},
   "outputs": [],
   "source": []
  },
  {
   "cell_type": "code",
   "execution_count": 229,
   "metadata": {},
   "outputs": [
    {
     "data": {
      "text/plain": [
       "1"
      ]
     },
     "execution_count": 229,
     "metadata": {},
     "output_type": "execute_result"
    }
   ],
   "source": [
    "#zipcodeori and zipMerchant columns have only one unique value\n",
    "\n",
    "data.zipcodeOri.nunique()"
   ]
  },
  {
   "cell_type": "code",
   "execution_count": 230,
   "metadata": {},
   "outputs": [
    {
     "data": {
      "text/plain": [
       "1"
      ]
     },
     "execution_count": 230,
     "metadata": {},
     "output_type": "execute_result"
    }
   ],
   "source": [
    "data.zipMerchant.nunique()"
   ]
  },
  {
   "cell_type": "code",
   "execution_count": 231,
   "metadata": {},
   "outputs": [],
   "source": [
    "#so will be droped\n",
    "data = data.drop(['zipcodeOri','zipMerchant'],axis=1)"
   ]
  },
  {
   "cell_type": "code",
   "execution_count": 232,
   "metadata": {},
   "outputs": [
    {
     "data": {
      "text/html": [
       "<div>\n",
       "<style scoped>\n",
       "    .dataframe tbody tr th:only-of-type {\n",
       "        vertical-align: middle;\n",
       "    }\n",
       "\n",
       "    .dataframe tbody tr th {\n",
       "        vertical-align: top;\n",
       "    }\n",
       "\n",
       "    .dataframe thead th {\n",
       "        text-align: right;\n",
       "    }\n",
       "</style>\n",
       "<table border=\"1\" class=\"dataframe\">\n",
       "  <thead>\n",
       "    <tr style=\"text-align: right;\">\n",
       "      <th></th>\n",
       "      <th>step</th>\n",
       "      <th>customer</th>\n",
       "      <th>merchant</th>\n",
       "      <th>category</th>\n",
       "      <th>amount</th>\n",
       "      <th>fraud</th>\n",
       "      <th>encoded_age</th>\n",
       "      <th>gender_'E'</th>\n",
       "      <th>gender_'F'</th>\n",
       "      <th>gender_'M'</th>\n",
       "      <th>gender_'U'</th>\n",
       "    </tr>\n",
       "  </thead>\n",
       "  <tbody>\n",
       "    <tr>\n",
       "      <th>0</th>\n",
       "      <td>0</td>\n",
       "      <td>'C1093826151'</td>\n",
       "      <td>'M348934600'</td>\n",
       "      <td>'es_transportation'</td>\n",
       "      <td>4.55</td>\n",
       "      <td>0</td>\n",
       "      <td>4</td>\n",
       "      <td>0</td>\n",
       "      <td>0</td>\n",
       "      <td>1</td>\n",
       "      <td>0</td>\n",
       "    </tr>\n",
       "    <tr>\n",
       "      <th>1</th>\n",
       "      <td>0</td>\n",
       "      <td>'C352968107'</td>\n",
       "      <td>'M348934600'</td>\n",
       "      <td>'es_transportation'</td>\n",
       "      <td>39.68</td>\n",
       "      <td>0</td>\n",
       "      <td>2</td>\n",
       "      <td>0</td>\n",
       "      <td>0</td>\n",
       "      <td>1</td>\n",
       "      <td>0</td>\n",
       "    </tr>\n",
       "    <tr>\n",
       "      <th>2</th>\n",
       "      <td>0</td>\n",
       "      <td>'C2054744914'</td>\n",
       "      <td>'M1823072687'</td>\n",
       "      <td>'es_transportation'</td>\n",
       "      <td>26.89</td>\n",
       "      <td>0</td>\n",
       "      <td>4</td>\n",
       "      <td>0</td>\n",
       "      <td>1</td>\n",
       "      <td>0</td>\n",
       "      <td>0</td>\n",
       "    </tr>\n",
       "    <tr>\n",
       "      <th>3</th>\n",
       "      <td>0</td>\n",
       "      <td>'C1760612790'</td>\n",
       "      <td>'M348934600'</td>\n",
       "      <td>'es_transportation'</td>\n",
       "      <td>17.25</td>\n",
       "      <td>0</td>\n",
       "      <td>3</td>\n",
       "      <td>0</td>\n",
       "      <td>0</td>\n",
       "      <td>1</td>\n",
       "      <td>0</td>\n",
       "    </tr>\n",
       "    <tr>\n",
       "      <th>4</th>\n",
       "      <td>0</td>\n",
       "      <td>'C757503768'</td>\n",
       "      <td>'M348934600'</td>\n",
       "      <td>'es_transportation'</td>\n",
       "      <td>35.72</td>\n",
       "      <td>0</td>\n",
       "      <td>5</td>\n",
       "      <td>0</td>\n",
       "      <td>0</td>\n",
       "      <td>1</td>\n",
       "      <td>0</td>\n",
       "    </tr>\n",
       "    <tr>\n",
       "      <th>...</th>\n",
       "      <td>...</td>\n",
       "      <td>...</td>\n",
       "      <td>...</td>\n",
       "      <td>...</td>\n",
       "      <td>...</td>\n",
       "      <td>...</td>\n",
       "      <td>...</td>\n",
       "      <td>...</td>\n",
       "      <td>...</td>\n",
       "      <td>...</td>\n",
       "      <td>...</td>\n",
       "    </tr>\n",
       "    <tr>\n",
       "      <th>594638</th>\n",
       "      <td>179</td>\n",
       "      <td>'C1753498738'</td>\n",
       "      <td>'M1823072687'</td>\n",
       "      <td>'es_transportation'</td>\n",
       "      <td>20.53</td>\n",
       "      <td>0</td>\n",
       "      <td>3</td>\n",
       "      <td>0</td>\n",
       "      <td>1</td>\n",
       "      <td>0</td>\n",
       "      <td>0</td>\n",
       "    </tr>\n",
       "    <tr>\n",
       "      <th>594639</th>\n",
       "      <td>179</td>\n",
       "      <td>'C650108285'</td>\n",
       "      <td>'M1823072687'</td>\n",
       "      <td>'es_transportation'</td>\n",
       "      <td>50.73</td>\n",
       "      <td>0</td>\n",
       "      <td>4</td>\n",
       "      <td>0</td>\n",
       "      <td>1</td>\n",
       "      <td>0</td>\n",
       "      <td>0</td>\n",
       "    </tr>\n",
       "    <tr>\n",
       "      <th>594640</th>\n",
       "      <td>179</td>\n",
       "      <td>'C123623130'</td>\n",
       "      <td>'M349281107'</td>\n",
       "      <td>'es_fashion'</td>\n",
       "      <td>22.44</td>\n",
       "      <td>0</td>\n",
       "      <td>2</td>\n",
       "      <td>0</td>\n",
       "      <td>1</td>\n",
       "      <td>0</td>\n",
       "      <td>0</td>\n",
       "    </tr>\n",
       "    <tr>\n",
       "      <th>594641</th>\n",
       "      <td>179</td>\n",
       "      <td>'C1499363341'</td>\n",
       "      <td>'M1823072687'</td>\n",
       "      <td>'es_transportation'</td>\n",
       "      <td>14.46</td>\n",
       "      <td>0</td>\n",
       "      <td>5</td>\n",
       "      <td>0</td>\n",
       "      <td>0</td>\n",
       "      <td>1</td>\n",
       "      <td>0</td>\n",
       "    </tr>\n",
       "    <tr>\n",
       "      <th>594642</th>\n",
       "      <td>179</td>\n",
       "      <td>'C616528518'</td>\n",
       "      <td>'M1823072687'</td>\n",
       "      <td>'es_transportation'</td>\n",
       "      <td>26.93</td>\n",
       "      <td>0</td>\n",
       "      <td>4</td>\n",
       "      <td>0</td>\n",
       "      <td>1</td>\n",
       "      <td>0</td>\n",
       "      <td>0</td>\n",
       "    </tr>\n",
       "  </tbody>\n",
       "</table>\n",
       "<p>594643 rows × 11 columns</p>\n",
       "</div>"
      ],
      "text/plain": [
       "        step       customer       merchant             category  amount  \\\n",
       "0          0  'C1093826151'   'M348934600'  'es_transportation'    4.55   \n",
       "1          0   'C352968107'   'M348934600'  'es_transportation'   39.68   \n",
       "2          0  'C2054744914'  'M1823072687'  'es_transportation'   26.89   \n",
       "3          0  'C1760612790'   'M348934600'  'es_transportation'   17.25   \n",
       "4          0   'C757503768'   'M348934600'  'es_transportation'   35.72   \n",
       "...      ...            ...            ...                  ...     ...   \n",
       "594638   179  'C1753498738'  'M1823072687'  'es_transportation'   20.53   \n",
       "594639   179   'C650108285'  'M1823072687'  'es_transportation'   50.73   \n",
       "594640   179   'C123623130'   'M349281107'         'es_fashion'   22.44   \n",
       "594641   179  'C1499363341'  'M1823072687'  'es_transportation'   14.46   \n",
       "594642   179   'C616528518'  'M1823072687'  'es_transportation'   26.93   \n",
       "\n",
       "        fraud  encoded_age  gender_'E'  gender_'F'  gender_'M'  gender_'U'  \n",
       "0           0            4           0           0           1           0  \n",
       "1           0            2           0           0           1           0  \n",
       "2           0            4           0           1           0           0  \n",
       "3           0            3           0           0           1           0  \n",
       "4           0            5           0           0           1           0  \n",
       "...       ...          ...         ...         ...         ...         ...  \n",
       "594638      0            3           0           1           0           0  \n",
       "594639      0            4           0           1           0           0  \n",
       "594640      0            2           0           1           0           0  \n",
       "594641      0            5           0           0           1           0  \n",
       "594642      0            4           0           1           0           0  \n",
       "\n",
       "[594643 rows x 11 columns]"
      ]
     },
     "execution_count": 232,
     "metadata": {},
     "output_type": "execute_result"
    }
   ],
   "source": [
    "data"
   ]
  },
  {
   "cell_type": "code",
   "execution_count": null,
   "metadata": {},
   "outputs": [],
   "source": []
  },
  {
   "cell_type": "markdown",
   "metadata": {},
   "source": [
    "Split the dataset into features and target variable"
   ]
  },
  {
   "cell_type": "code",
   "execution_count": 234,
   "metadata": {},
   "outputs": [],
   "source": [
    "#features\n",
    "X = data.drop(['fraud'],axis=1)\n",
    "\n",
    "#target\n",
    "y = data['fraud']"
   ]
  },
  {
   "cell_type": "code",
   "execution_count": 235,
   "metadata": {},
   "outputs": [
    {
     "data": {
      "text/html": [
       "<div>\n",
       "<style scoped>\n",
       "    .dataframe tbody tr th:only-of-type {\n",
       "        vertical-align: middle;\n",
       "    }\n",
       "\n",
       "    .dataframe tbody tr th {\n",
       "        vertical-align: top;\n",
       "    }\n",
       "\n",
       "    .dataframe thead th {\n",
       "        text-align: right;\n",
       "    }\n",
       "</style>\n",
       "<table border=\"1\" class=\"dataframe\">\n",
       "  <thead>\n",
       "    <tr style=\"text-align: right;\">\n",
       "      <th></th>\n",
       "      <th>step</th>\n",
       "      <th>customer</th>\n",
       "      <th>merchant</th>\n",
       "      <th>category</th>\n",
       "      <th>amount</th>\n",
       "      <th>encoded_age</th>\n",
       "      <th>gender_'E'</th>\n",
       "      <th>gender_'F'</th>\n",
       "      <th>gender_'M'</th>\n",
       "      <th>gender_'U'</th>\n",
       "    </tr>\n",
       "  </thead>\n",
       "  <tbody>\n",
       "    <tr>\n",
       "      <th>0</th>\n",
       "      <td>0</td>\n",
       "      <td>'C1093826151'</td>\n",
       "      <td>'M348934600'</td>\n",
       "      <td>'es_transportation'</td>\n",
       "      <td>4.55</td>\n",
       "      <td>4</td>\n",
       "      <td>0</td>\n",
       "      <td>0</td>\n",
       "      <td>1</td>\n",
       "      <td>0</td>\n",
       "    </tr>\n",
       "    <tr>\n",
       "      <th>1</th>\n",
       "      <td>0</td>\n",
       "      <td>'C352968107'</td>\n",
       "      <td>'M348934600'</td>\n",
       "      <td>'es_transportation'</td>\n",
       "      <td>39.68</td>\n",
       "      <td>2</td>\n",
       "      <td>0</td>\n",
       "      <td>0</td>\n",
       "      <td>1</td>\n",
       "      <td>0</td>\n",
       "    </tr>\n",
       "    <tr>\n",
       "      <th>2</th>\n",
       "      <td>0</td>\n",
       "      <td>'C2054744914'</td>\n",
       "      <td>'M1823072687'</td>\n",
       "      <td>'es_transportation'</td>\n",
       "      <td>26.89</td>\n",
       "      <td>4</td>\n",
       "      <td>0</td>\n",
       "      <td>1</td>\n",
       "      <td>0</td>\n",
       "      <td>0</td>\n",
       "    </tr>\n",
       "    <tr>\n",
       "      <th>3</th>\n",
       "      <td>0</td>\n",
       "      <td>'C1760612790'</td>\n",
       "      <td>'M348934600'</td>\n",
       "      <td>'es_transportation'</td>\n",
       "      <td>17.25</td>\n",
       "      <td>3</td>\n",
       "      <td>0</td>\n",
       "      <td>0</td>\n",
       "      <td>1</td>\n",
       "      <td>0</td>\n",
       "    </tr>\n",
       "    <tr>\n",
       "      <th>4</th>\n",
       "      <td>0</td>\n",
       "      <td>'C757503768'</td>\n",
       "      <td>'M348934600'</td>\n",
       "      <td>'es_transportation'</td>\n",
       "      <td>35.72</td>\n",
       "      <td>5</td>\n",
       "      <td>0</td>\n",
       "      <td>0</td>\n",
       "      <td>1</td>\n",
       "      <td>0</td>\n",
       "    </tr>\n",
       "    <tr>\n",
       "      <th>...</th>\n",
       "      <td>...</td>\n",
       "      <td>...</td>\n",
       "      <td>...</td>\n",
       "      <td>...</td>\n",
       "      <td>...</td>\n",
       "      <td>...</td>\n",
       "      <td>...</td>\n",
       "      <td>...</td>\n",
       "      <td>...</td>\n",
       "      <td>...</td>\n",
       "    </tr>\n",
       "    <tr>\n",
       "      <th>594638</th>\n",
       "      <td>179</td>\n",
       "      <td>'C1753498738'</td>\n",
       "      <td>'M1823072687'</td>\n",
       "      <td>'es_transportation'</td>\n",
       "      <td>20.53</td>\n",
       "      <td>3</td>\n",
       "      <td>0</td>\n",
       "      <td>1</td>\n",
       "      <td>0</td>\n",
       "      <td>0</td>\n",
       "    </tr>\n",
       "    <tr>\n",
       "      <th>594639</th>\n",
       "      <td>179</td>\n",
       "      <td>'C650108285'</td>\n",
       "      <td>'M1823072687'</td>\n",
       "      <td>'es_transportation'</td>\n",
       "      <td>50.73</td>\n",
       "      <td>4</td>\n",
       "      <td>0</td>\n",
       "      <td>1</td>\n",
       "      <td>0</td>\n",
       "      <td>0</td>\n",
       "    </tr>\n",
       "    <tr>\n",
       "      <th>594640</th>\n",
       "      <td>179</td>\n",
       "      <td>'C123623130'</td>\n",
       "      <td>'M349281107'</td>\n",
       "      <td>'es_fashion'</td>\n",
       "      <td>22.44</td>\n",
       "      <td>2</td>\n",
       "      <td>0</td>\n",
       "      <td>1</td>\n",
       "      <td>0</td>\n",
       "      <td>0</td>\n",
       "    </tr>\n",
       "    <tr>\n",
       "      <th>594641</th>\n",
       "      <td>179</td>\n",
       "      <td>'C1499363341'</td>\n",
       "      <td>'M1823072687'</td>\n",
       "      <td>'es_transportation'</td>\n",
       "      <td>14.46</td>\n",
       "      <td>5</td>\n",
       "      <td>0</td>\n",
       "      <td>0</td>\n",
       "      <td>1</td>\n",
       "      <td>0</td>\n",
       "    </tr>\n",
       "    <tr>\n",
       "      <th>594642</th>\n",
       "      <td>179</td>\n",
       "      <td>'C616528518'</td>\n",
       "      <td>'M1823072687'</td>\n",
       "      <td>'es_transportation'</td>\n",
       "      <td>26.93</td>\n",
       "      <td>4</td>\n",
       "      <td>0</td>\n",
       "      <td>1</td>\n",
       "      <td>0</td>\n",
       "      <td>0</td>\n",
       "    </tr>\n",
       "  </tbody>\n",
       "</table>\n",
       "<p>594643 rows × 10 columns</p>\n",
       "</div>"
      ],
      "text/plain": [
       "        step       customer       merchant             category  amount  \\\n",
       "0          0  'C1093826151'   'M348934600'  'es_transportation'    4.55   \n",
       "1          0   'C352968107'   'M348934600'  'es_transportation'   39.68   \n",
       "2          0  'C2054744914'  'M1823072687'  'es_transportation'   26.89   \n",
       "3          0  'C1760612790'   'M348934600'  'es_transportation'   17.25   \n",
       "4          0   'C757503768'   'M348934600'  'es_transportation'   35.72   \n",
       "...      ...            ...            ...                  ...     ...   \n",
       "594638   179  'C1753498738'  'M1823072687'  'es_transportation'   20.53   \n",
       "594639   179   'C650108285'  'M1823072687'  'es_transportation'   50.73   \n",
       "594640   179   'C123623130'   'M349281107'         'es_fashion'   22.44   \n",
       "594641   179  'C1499363341'  'M1823072687'  'es_transportation'   14.46   \n",
       "594642   179   'C616528518'  'M1823072687'  'es_transportation'   26.93   \n",
       "\n",
       "        encoded_age  gender_'E'  gender_'F'  gender_'M'  gender_'U'  \n",
       "0                 4           0           0           1           0  \n",
       "1                 2           0           0           1           0  \n",
       "2                 4           0           1           0           0  \n",
       "3                 3           0           0           1           0  \n",
       "4                 5           0           0           1           0  \n",
       "...             ...         ...         ...         ...         ...  \n",
       "594638            3           0           1           0           0  \n",
       "594639            4           0           1           0           0  \n",
       "594640            2           0           1           0           0  \n",
       "594641            5           0           0           1           0  \n",
       "594642            4           0           1           0           0  \n",
       "\n",
       "[594643 rows x 10 columns]"
      ]
     },
     "execution_count": 235,
     "metadata": {},
     "output_type": "execute_result"
    }
   ],
   "source": [
    "X"
   ]
  },
  {
   "cell_type": "code",
   "execution_count": 236,
   "metadata": {},
   "outputs": [
    {
     "data": {
      "text/plain": [
       "0         0\n",
       "1         0\n",
       "2         0\n",
       "3         0\n",
       "4         0\n",
       "         ..\n",
       "594638    0\n",
       "594639    0\n",
       "594640    0\n",
       "594641    0\n",
       "594642    0\n",
       "Name: fraud, Length: 594643, dtype: int64"
      ]
     },
     "execution_count": 236,
     "metadata": {},
     "output_type": "execute_result"
    }
   ],
   "source": [
    "y"
   ]
  },
  {
   "cell_type": "code",
   "execution_count": null,
   "metadata": {},
   "outputs": [],
   "source": []
  },
  {
   "cell_type": "markdown",
   "metadata": {},
   "source": [
    "# Exploratory Data Analysis (EDA)"
   ]
  },
  {
   "cell_type": "markdown",
   "metadata": {},
   "source": [
    "1.Explore the distribution of the target variable (Fraud) to understand the class imbalance."
   ]
  },
  {
   "cell_type": "code",
   "execution_count": 237,
   "metadata": {},
   "outputs": [
    {
     "data": {
      "text/plain": [
       "0    587443\n",
       "1      7200\n",
       "Name: fraud, dtype: int64"
      ]
     },
     "execution_count": 237,
     "metadata": {},
     "output_type": "execute_result"
    }
   ],
   "source": [
    "fraud_counts = y.value_counts()\n",
    "fraud_counts\n",
    "\n",
    "#Most of the data is not fraud (Benign)"
   ]
  },
  {
   "cell_type": "code",
   "execution_count": 238,
   "metadata": {},
   "outputs": [
    {
     "data": {
      "image/png": "[encoded data removed]",
      "text/plain": [
       "<Figure size 432x288 with 1 Axes>"
      ]
     },
     "metadata": {
      "needs_background": "light"
     },
     "output_type": "display_data"
    }
   ],
   "source": [
    "#Count Plot\n",
    "\n",
    "sns.countplot(y = data['fraud'], palette='cool');\n",
    "\n",
    "#The target is highly Imbalanced"
   ]
  },
  {
   "cell_type": "code",
   "execution_count": 239,
   "metadata": {},
   "outputs": [
    {
     "data": {
      "image/png": "[encoded data removed]",
      "text/plain": [
       "<Figure size 576x432 with 1 Axes>"
      ]
     },
     "metadata": {
      "needs_background": "light"
     },
     "output_type": "display_data"
    }
   ],
   "source": [
    "#Visualizing the class distribution using (Bar chart)\n",
    "\n",
    "plt.figure(figsize=(8, 6))\n",
    "plt.bar(fraud_counts.index, fraud_counts.values)\n",
    "plt.xlabel('Target (0: Benign, 1: Fraud)')\n",
    "plt.ylabel('Count')\n",
    "plt.title('Distribution of Fraud and Benign Transactions')\n",
    "plt.xticks([0, 1], ['Benign', 'Fraud'])\n",
    "plt.show()"
   ]
  },
  {
   "cell_type": "code",
   "execution_count": 240,
   "metadata": {},
   "outputs": [
    {
     "data": {
      "image/png": "[encoded data removed]",
      "text/plain": [
       "<Figure size 432x432 with 1 Axes>"
      ]
     },
     "metadata": {},
     "output_type": "display_data"
    }
   ],
   "source": [
    "#Visualizing the class distribution using (Pie chart)\n",
    "#The pie chart to show the percentage of fraud and benign transactions in the dataset\n",
    "\n",
    "plt.figure(figsize=(6, 6))\n",
    "labels = ['Benign', 'Fraud']\n",
    "sizes = fraud_counts.values\n",
    "colors = ['lightcoral', 'lightskyblue']\n",
    "plt.pie(sizes, labels=labels, colors=colors, autopct='%1.1f%%', startangle=140)\n",
    "plt.axis('equal')  \n",
    "plt.title('Distribution of Fraud and Benign Transactions')\n",
    "plt.show()"
   ]
  },
  {
   "cell_type": "code",
   "execution_count": 241,
   "metadata": {},
   "outputs": [
    {
     "data": {
      "image/png": "[encoded data removed]",
      "text/plain": [
       "<Figure size 576x432 with 1 Axes>"
      ]
     },
     "metadata": {
      "needs_background": "light"
     },
     "output_type": "display_data"
    }
   ],
   "source": [
    "#Visualizing the class distribution using (Box Plot)\n",
    "\n",
    "plt.figure(figsize=(8, 6))\n",
    "sns.boxplot(x=y, y=X['amount'], palette=['skyblue', 'lightcoral'])\n",
    "plt.xlabel('Class (0: Benign, 1: Fraud)')\n",
    "plt.ylabel('Transaction Amount')\n",
    "plt.title('Distribution of Transaction Amount by Class')\n",
    "plt.xticks([0, 1], ['Benign', 'Fraud'])\n",
    "plt.show()"
   ]
  },
  {
   "cell_type": "code",
   "execution_count": 242,
   "metadata": {},
   "outputs": [
    {
     "name": "stdout",
     "output_type": "stream",
     "text": [
      "Imbalance Ratio: 81.59\n"
     ]
    }
   ],
   "source": [
    "#Calculating the imbalance ratio, where a higher imbalance ratio indicates a more imbalanced dataset\n",
    "\n",
    "imbalance_ratio = fraud_counts[0] / fraud_counts[1]\n",
    "print(f\"Imbalance Ratio: {imbalance_ratio:.2f}\")"
   ]
  },
  {
   "cell_type": "code",
   "execution_count": null,
   "metadata": {},
   "outputs": [],
   "source": []
  },
  {
   "cell_type": "markdown",
   "metadata": {},
   "source": [
    "2.Analyze the distribution of features and their relationships with the target variable"
   ]
  },
  {
   "cell_type": "markdown",
   "metadata": {},
   "source": [
    "-For Numerical Features"
   ]
  },
  {
   "cell_type": "code",
   "execution_count": 243,
   "metadata": {},
   "outputs": [
    {
     "data": {
      "image/png": "[encoded data removed]",
      "text/plain": [
       "<Figure size 432x288 with 1 Axes>"
      ]
     },
     "metadata": {
      "needs_background": "light"
     },
     "output_type": "display_data"
    }
   ],
   "source": [
    "#Box plot for 'amount' by class\n",
    "\n",
    "plt.subplot(1, 2, 2)\n",
    "sns.boxplot(x=y, y=X['amount'], palette=['skyblue', 'lightcoral'])\n",
    "plt.xlabel('Class (0: Non-Fraud, 1: Fraud)')\n",
    "plt.ylabel('Transaction Amount')\n",
    "plt.title('Transaction Amount Distribution by Class')\n",
    "plt.xticks([0, 1], ['Non-Fraud', 'Fraud'])\n",
    "\n",
    "plt.tight_layout()\n",
    "plt.show()"
   ]
  },
  {
   "cell_type": "code",
   "execution_count": 244,
   "metadata": {},
   "outputs": [
    {
     "name": "stdout",
     "output_type": "stream",
     "text": [
      "             mean   median\n",
      "fraud                     \n",
      "0       31.847230   26.610\n",
      "1      530.926551  319.175\n"
     ]
    }
   ],
   "source": [
    "#Calculate mean and median of (amount) by class\n",
    "#Summary statistics to analyze how numerical features are related to the class\n",
    "\n",
    "amount_summary = X.groupby(y)['amount'].agg(['mean', 'median'])\n",
    "print(amount_summary)"
   ]
  },
  {
   "cell_type": "code",
   "execution_count": 245,
   "metadata": {},
   "outputs": [
    {
     "data": {
      "image/png": "[encoded data removed]",
      "text/plain": [
       "<Figure size 720x576 with 2 Axes>"
      ]
     },
     "metadata": {
      "needs_background": "light"
     },
     "output_type": "display_data"
    }
   ],
   "source": [
    "#Visualizing the correlation matrix\n",
    "#For showing how numerical features are correlated with the class\n",
    "\n",
    "correlation_matrix = X.corr()\n",
    "plt.figure(figsize=(10, 8))\n",
    "sns.heatmap(correlation_matrix, annot=True, cmap='coolwarm', linewidths=0.5)\n",
    "plt.title('Correlation Matrix')\n",
    "plt.show()"
   ]
  },
  {
   "cell_type": "code",
   "execution_count": 246,
   "metadata": {},
   "outputs": [
    {
     "data": {
      "image/png": "[encoded data removed]",
      "text/plain": [
       "<Figure size 576x432 with 1 Axes>"
      ]
     },
     "metadata": {
      "needs_background": "light"
     },
     "output_type": "display_data"
    }
   ],
   "source": [
    "#Creating Kernel Density Estimation KDE plots for (amount) by class\n",
    "#For comparing the distribution of transaction amounts between the two classes more smoothly\n",
    "\n",
    "plt.figure(figsize=(8, 6))\n",
    "sns.kdeplot(X[y == 0]['amount'], label='Non-Fraud', shade=True, color='skyblue')\n",
    "sns.kdeplot(X[y == 1]['amount'], label='Fraud', shade=True, color='lightcoral')\n",
    "plt.xlabel('Transaction Amount')\n",
    "plt.ylabel('Density')\n",
    "plt.title('Kernel Density Estimation (KDE) Plot of Transaction Amount by Class')\n",
    "plt.legend()\n",
    "plt.show()"
   ]
  },
  {
   "cell_type": "code",
   "execution_count": null,
   "metadata": {},
   "outputs": [],
   "source": []
  },
  {
   "cell_type": "code",
   "execution_count": null,
   "metadata": {},
   "outputs": [],
   "source": []
  },
  {
   "cell_type": "markdown",
   "metadata": {},
   "source": [
    "-Caregorical Features"
   ]
  },
  {
   "cell_type": "code",
   "execution_count": 247,
   "metadata": {},
   "outputs": [
    {
     "data": {
      "image/png": "[encoded data removed]",
      "text/plain": [
       "<Figure size 864x432 with 2 Axes>"
      ]
     },
     "metadata": {
      "needs_background": "light"
     },
     "output_type": "display_data"
    }
   ],
   "source": [
    "#Plotting the count plots for (merchant) and (category) by class\n",
    "\n",
    "plt.figure(figsize=(12, 6))\n",
    "plt.subplot(1, 2, 1)\n",
    "sns.countplot(data=X, x='merchant', hue=y, palette=['skyblue', 'lightcoral'])\n",
    "plt.title('Transaction Count by Merchant and Class')\n",
    "plt.xticks(rotation=90)\n",
    "\n",
    "plt.subplot(1, 2, 2)\n",
    "sns.countplot(data=X, x='category', hue=y, palette=['skyblue', 'lightcoral'])\n",
    "plt.title('Transaction Count by Category and Class')\n",
    "plt.xticks(rotation=90)\n",
    "\n",
    "plt.tight_layout()\n",
    "plt.show()"
   ]
  },
  {
   "cell_type": "code",
   "execution_count": 248,
   "metadata": {},
   "outputs": [],
   "source": [
    "#Calculate class-wise frequencies for 'merchant' and 'category'\n",
    "#How feature values are distributed differently over class values\n",
    "\n",
    "merchant_freq = X.groupby(y)['merchant'].value_counts(normalize=True).unstack(fill_value=0)\n",
    "category_freq = X.groupby(y)['category'].value_counts(normalize=True).unstack(fill_value=0)"
   ]
  },
  {
   "cell_type": "code",
   "execution_count": 249,
   "metadata": {},
   "outputs": [
    {
     "data": {
      "text/html": [
       "<div>\n",
       "<style scoped>\n",
       "    .dataframe tbody tr th:only-of-type {\n",
       "        vertical-align: middle;\n",
       "    }\n",
       "\n",
       "    .dataframe tbody tr th {\n",
       "        vertical-align: top;\n",
       "    }\n",
       "\n",
       "    .dataframe thead th {\n",
       "        text-align: right;\n",
       "    }\n",
       "</style>\n",
       "<table border=\"1\" class=\"dataframe\">\n",
       "  <thead>\n",
       "    <tr style=\"text-align: right;\">\n",
       "      <th>merchant</th>\n",
       "      <th>'M1053599405'</th>\n",
       "      <th>'M117188757'</th>\n",
       "      <th>'M1198415165'</th>\n",
       "      <th>'M1294758098'</th>\n",
       "      <th>'M1313686961'</th>\n",
       "      <th>'M1352454843'</th>\n",
       "      <th>'M1353266412'</th>\n",
       "      <th>'M1400236507'</th>\n",
       "      <th>'M1416436880'</th>\n",
       "      <th>'M151143676'</th>\n",
       "      <th>...</th>\n",
       "      <th>'M732195782'</th>\n",
       "      <th>'M78078399'</th>\n",
       "      <th>'M840466850'</th>\n",
       "      <th>'M855959430'</th>\n",
       "      <th>'M857378720'</th>\n",
       "      <th>'M85975013'</th>\n",
       "      <th>'M923029380'</th>\n",
       "      <th>'M933210764'</th>\n",
       "      <th>'M97925176'</th>\n",
       "      <th>'M980657600'</th>\n",
       "    </tr>\n",
       "    <tr>\n",
       "      <th>fraud</th>\n",
       "      <th></th>\n",
       "      <th></th>\n",
       "      <th></th>\n",
       "      <th></th>\n",
       "      <th></th>\n",
       "      <th></th>\n",
       "      <th></th>\n",
       "      <th></th>\n",
       "      <th></th>\n",
       "      <th></th>\n",
       "      <th></th>\n",
       "      <th></th>\n",
       "      <th></th>\n",
       "      <th></th>\n",
       "      <th></th>\n",
       "      <th></th>\n",
       "      <th></th>\n",
       "      <th></th>\n",
       "      <th></th>\n",
       "      <th></th>\n",
       "      <th></th>\n",
       "    </tr>\n",
       "  </thead>\n",
       "  <tbody>\n",
       "    <tr>\n",
       "      <th>0</th>\n",
       "      <td>0.011611</td>\n",
       "      <td>0.000036</td>\n",
       "      <td>0.002080</td>\n",
       "      <td>0.000012</td>\n",
       "      <td>0.000897</td>\n",
       "      <td>0.00063</td>\n",
       "      <td>0.000024</td>\n",
       "      <td>0.001321</td>\n",
       "      <td>0.000375</td>\n",
       "      <td>0.010644</td>\n",
       "      <td>...</td>\n",
       "      <td>0.000153</td>\n",
       "      <td>0.002662</td>\n",
       "      <td>0.002113</td>\n",
       "      <td>0.009904</td>\n",
       "      <td>0.000051</td>\n",
       "      <td>0.044692</td>\n",
       "      <td>0.000376</td>\n",
       "      <td>0.000097</td>\n",
       "      <td>0.00102</td>\n",
       "      <td>0.000506</td>\n",
       "    </tr>\n",
       "    <tr>\n",
       "      <th>1</th>\n",
       "      <td>0.000000</td>\n",
       "      <td>0.000000</td>\n",
       "      <td>0.049722</td>\n",
       "      <td>0.025556</td>\n",
       "      <td>0.000000</td>\n",
       "      <td>0.00000</td>\n",
       "      <td>0.008889</td>\n",
       "      <td>0.000000</td>\n",
       "      <td>0.000000</td>\n",
       "      <td>0.016667</td>\n",
       "      <td>...</td>\n",
       "      <td>0.071944</td>\n",
       "      <td>0.006111</td>\n",
       "      <td>0.021944</td>\n",
       "      <td>0.038889</td>\n",
       "      <td>0.012778</td>\n",
       "      <td>0.000000</td>\n",
       "      <td>0.014167</td>\n",
       "      <td>0.001667</td>\n",
       "      <td>0.00000</td>\n",
       "      <td>0.204444</td>\n",
       "    </tr>\n",
       "  </tbody>\n",
       "</table>\n",
       "<p>2 rows × 50 columns</p>\n",
       "</div>"
      ],
      "text/plain": [
       "merchant  'M1053599405'  'M117188757'  'M1198415165'  'M1294758098'  \\\n",
       "fraud                                                                 \n",
       "0              0.011611      0.000036       0.002080       0.000012   \n",
       "1              0.000000      0.000000       0.049722       0.025556   \n",
       "\n",
       "merchant  'M1313686961'  'M1352454843'  'M1353266412'  'M1400236507'  \\\n",
       "fraud                                                                  \n",
       "0              0.000897        0.00063       0.000024       0.001321   \n",
       "1              0.000000        0.00000       0.008889       0.000000   \n",
       "\n",
       "merchant  'M1416436880'  'M151143676'  ...  'M732195782'  'M78078399'  \\\n",
       "fraud                                  ...                              \n",
       "0              0.000375      0.010644  ...      0.000153     0.002662   \n",
       "1              0.000000      0.016667  ...      0.071944     0.006111   \n",
       "\n",
       "merchant  'M840466850'  'M855959430'  'M857378720'  'M85975013'  'M923029380'  \\\n",
       "fraud                                                                           \n",
       "0             0.002113      0.009904      0.000051     0.044692      0.000376   \n",
       "1             0.021944      0.038889      0.012778     0.000000      0.014167   \n",
       "\n",
       "merchant  'M933210764'  'M97925176'  'M980657600'  \n",
       "fraud                                              \n",
       "0             0.000097      0.00102      0.000506  \n",
       "1             0.001667      0.00000      0.204444  \n",
       "\n",
       "[2 rows x 50 columns]"
      ]
     },
     "execution_count": 249,
     "metadata": {},
     "output_type": "execute_result"
    }
   ],
   "source": [
    "merchant_freq"
   ]
  },
  {
   "cell_type": "code",
   "execution_count": 250,
   "metadata": {},
   "outputs": [
    {
     "data": {
      "text/html": [
       "<div>\n",
       "<style scoped>\n",
       "    .dataframe tbody tr th:only-of-type {\n",
       "        vertical-align: middle;\n",
       "    }\n",
       "\n",
       "    .dataframe tbody tr th {\n",
       "        vertical-align: top;\n",
       "    }\n",
       "\n",
       "    .dataframe thead th {\n",
       "        text-align: right;\n",
       "    }\n",
       "</style>\n",
       "<table border=\"1\" class=\"dataframe\">\n",
       "  <thead>\n",
       "    <tr style=\"text-align: right;\">\n",
       "      <th>category</th>\n",
       "      <th>'es_barsandrestaurants'</th>\n",
       "      <th>'es_contents'</th>\n",
       "      <th>'es_fashion'</th>\n",
       "      <th>'es_food'</th>\n",
       "      <th>'es_health'</th>\n",
       "      <th>'es_home'</th>\n",
       "      <th>'es_hotelservices'</th>\n",
       "      <th>'es_hyper'</th>\n",
       "      <th>'es_leisure'</th>\n",
       "      <th>'es_otherservices'</th>\n",
       "      <th>'es_sportsandtoys'</th>\n",
       "      <th>'es_tech'</th>\n",
       "      <th>'es_transportation'</th>\n",
       "      <th>'es_travel'</th>\n",
       "      <th>'es_wellnessandbeauty'</th>\n",
       "    </tr>\n",
       "    <tr>\n",
       "      <th>fraud</th>\n",
       "      <th></th>\n",
       "      <th></th>\n",
       "      <th></th>\n",
       "      <th></th>\n",
       "      <th></th>\n",
       "      <th></th>\n",
       "      <th></th>\n",
       "      <th></th>\n",
       "      <th></th>\n",
       "      <th></th>\n",
       "      <th></th>\n",
       "      <th></th>\n",
       "      <th></th>\n",
       "      <th></th>\n",
       "      <th></th>\n",
       "    </tr>\n",
       "  </thead>\n",
       "  <tbody>\n",
       "    <tr>\n",
       "      <th>0</th>\n",
       "      <td>0.010644</td>\n",
       "      <td>0.001507</td>\n",
       "      <td>0.010789</td>\n",
       "      <td>0.044692</td>\n",
       "      <td>0.024576</td>\n",
       "      <td>0.002867</td>\n",
       "      <td>0.002036</td>\n",
       "      <td>0.009904</td>\n",
       "      <td>0.000043</td>\n",
       "      <td>0.001164</td>\n",
       "      <td>0.003439</td>\n",
       "      <td>0.003765</td>\n",
       "      <td>0.85986</td>\n",
       "      <td>0.000255</td>\n",
       "      <td>0.024459</td>\n",
       "    </tr>\n",
       "    <tr>\n",
       "      <th>1</th>\n",
       "      <td>0.016667</td>\n",
       "      <td>0.000000</td>\n",
       "      <td>0.016111</td>\n",
       "      <td>0.000000</td>\n",
       "      <td>0.235556</td>\n",
       "      <td>0.041944</td>\n",
       "      <td>0.076111</td>\n",
       "      <td>0.038889</td>\n",
       "      <td>0.065833</td>\n",
       "      <td>0.031667</td>\n",
       "      <td>0.275278</td>\n",
       "      <td>0.021944</td>\n",
       "      <td>0.00000</td>\n",
       "      <td>0.080278</td>\n",
       "      <td>0.099722</td>\n",
       "    </tr>\n",
       "  </tbody>\n",
       "</table>\n",
       "</div>"
      ],
      "text/plain": [
       "category  'es_barsandrestaurants'  'es_contents'  'es_fashion'  'es_food'  \\\n",
       "fraud                                                                       \n",
       "0                        0.010644       0.001507      0.010789   0.044692   \n",
       "1                        0.016667       0.000000      0.016111   0.000000   \n",
       "\n",
       "category  'es_health'  'es_home'  'es_hotelservices'  'es_hyper'  \\\n",
       "fraud                                                              \n",
       "0            0.024576   0.002867            0.002036    0.009904   \n",
       "1            0.235556   0.041944            0.076111    0.038889   \n",
       "\n",
       "category  'es_leisure'  'es_otherservices'  'es_sportsandtoys'  'es_tech'  \\\n",
       "fraud                                                                       \n",
       "0             0.000043            0.001164            0.003439   0.003765   \n",
       "1             0.065833            0.031667            0.275278   0.021944   \n",
       "\n",
       "category  'es_transportation'  'es_travel'  'es_wellnessandbeauty'  \n",
       "fraud                                                               \n",
       "0                     0.85986     0.000255                0.024459  \n",
       "1                     0.00000     0.080278                0.099722  "
      ]
     },
     "execution_count": 250,
     "metadata": {},
     "output_type": "execute_result"
    }
   ],
   "source": [
    "category_freq"
   ]
  },
  {
   "cell_type": "code",
   "execution_count": null,
   "metadata": {},
   "outputs": [],
   "source": []
  },
  {
   "cell_type": "markdown",
   "metadata": {},
   "source": [
    "3.Visualize trends, patterns, and potential outliers in the data."
   ]
  },
  {
   "cell_type": "code",
   "execution_count": 251,
   "metadata": {},
   "outputs": [
    {
     "data": {
      "image/png": "[encoded data removed]",
      "text/plain": [
       "<Figure size 1440x864 with 1 Axes>"
      ]
     },
     "metadata": {
      "needs_background": "light"
     },
     "output_type": "display_data"
    }
   ],
   "source": [
    "#Time series plot of transaction count by hour\n",
    "#Visualizing trends over time (step) which representing hours\n",
    "\n",
    "\n",
    "plt.figure(figsize=(20, 12))\n",
    "sns.countplot(data=data, x='step', hue='fraud', palette=['skyblue', 'lightcoral'])\n",
    "plt.xlabel('Hour (Step)')\n",
    "plt.ylabel('Transaction Count')\n",
    "plt.title('Transaction Count by Hour and Class')\n",
    "plt.xticks(rotation=90)\n",
    "plt.legend(title='Class', loc='upper right')\n",
    "plt.show()"
   ]
  },
  {
   "cell_type": "code",
   "execution_count": 252,
   "metadata": {},
   "outputs": [
    {
     "data": {
      "image/png": "[encoded data removed]",
      "text/plain": [
       "<Figure size 402.375x360 with 6 Axes>"
      ]
     },
     "metadata": {
      "needs_background": "light"
     },
     "output_type": "display_data"
    }
   ],
   "source": [
    "#Create a pair plot of numerical features\n",
    "#Visualizing the relationships between numerical features for both fraud and benign transactions\n",
    "\n",
    "numerical_features = ['amount', 'encoded_age']\n",
    "data_for_pairplot = X[numerical_features].copy()\n",
    "data_for_pairplot['Fraud'] = y\n",
    "sns.pairplot(data=data_for_pairplot, hue='Fraud', palette=['skyblue', 'lightcoral'])\n",
    "plt.suptitle('Pair Plot of Numerical Features by Class', y=1.02)\n",
    "plt.show()"
   ]
  },
  {
   "cell_type": "code",
   "execution_count": 253,
   "metadata": {},
   "outputs": [
    {
     "data": {
      "image/png": "[encoded data removed]",
      "text/plain": [
       "<Figure size 864x432 with 1 Axes>"
      ]
     },
     "metadata": {
      "needs_background": "light"
     },
     "output_type": "display_data"
    }
   ],
   "source": [
    "#Creating box plots for (category) by class\n",
    "#Visualizing how categorical features are related to the target and identify potential outliers within categories\n",
    "\n",
    "plt.figure(figsize=(12, 6))\n",
    "sns.boxplot(data=X, x='category', y='amount', hue=y, palette=['skyblue', 'lightcoral'])\n",
    "plt.xlabel('Category')\n",
    "plt.ylabel('Transaction Amount')\n",
    "plt.title('Box Plot of Transaction Amount by Category and Class')\n",
    "plt.xticks(rotation=90)\n",
    "plt.legend(title='Class', loc='upper right')\n",
    "plt.show()\n"
   ]
  },
  {
   "cell_type": "code",
   "execution_count": null,
   "metadata": {},
   "outputs": [],
   "source": []
  },
  {
   "cell_type": "markdown",
   "metadata": {},
   "source": [
    "# Feature Engineering"
   ]
  },
  {
   "cell_type": "markdown",
   "metadata": {},
   "source": [
    "1.Create new relevant features if possible, such as the time of day from the step column"
   ]
  },
  {
   "cell_type": "code",
   "execution_count": 254,
   "metadata": {},
   "outputs": [],
   "source": [
    "#Since there are 180 steps, each step corresponds to approximately one day, so we can calculate the hour of the day\n",
    "#where: \n",
    "#0 represents: 12AM, 1 represents: 1AM, 2 represents: 2AM, 3 represents: 3AM, ..., 11 represents: 23PM\n",
    "\n",
    "X['hour_of_day'] = (X['step'] % 24).astype(int)"
   ]
  },
  {
   "cell_type": "code",
   "execution_count": 255,
   "metadata": {},
   "outputs": [
    {
     "data": {
      "text/html": [
       "<div>\n",
       "<style scoped>\n",
       "    .dataframe tbody tr th:only-of-type {\n",
       "        vertical-align: middle;\n",
       "    }\n",
       "\n",
       "    .dataframe tbody tr th {\n",
       "        vertical-align: top;\n",
       "    }\n",
       "\n",
       "    .dataframe thead th {\n",
       "        text-align: right;\n",
       "    }\n",
       "</style>\n",
       "<table border=\"1\" class=\"dataframe\">\n",
       "  <thead>\n",
       "    <tr style=\"text-align: right;\">\n",
       "      <th></th>\n",
       "      <th>step</th>\n",
       "      <th>customer</th>\n",
       "      <th>merchant</th>\n",
       "      <th>category</th>\n",
       "      <th>amount</th>\n",
       "      <th>encoded_age</th>\n",
       "      <th>gender_'E'</th>\n",
       "      <th>gender_'F'</th>\n",
       "      <th>gender_'M'</th>\n",
       "      <th>gender_'U'</th>\n",
       "      <th>hour_of_day</th>\n",
       "    </tr>\n",
       "  </thead>\n",
       "  <tbody>\n",
       "    <tr>\n",
       "      <th>0</th>\n",
       "      <td>0</td>\n",
       "      <td>'C1093826151'</td>\n",
       "      <td>'M348934600'</td>\n",
       "      <td>'es_transportation'</td>\n",
       "      <td>4.55</td>\n",
       "      <td>4</td>\n",
       "      <td>0</td>\n",
       "      <td>0</td>\n",
       "      <td>1</td>\n",
       "      <td>0</td>\n",
       "      <td>0</td>\n",
       "    </tr>\n",
       "    <tr>\n",
       "      <th>1</th>\n",
       "      <td>0</td>\n",
       "      <td>'C352968107'</td>\n",
       "      <td>'M348934600'</td>\n",
       "      <td>'es_transportation'</td>\n",
       "      <td>39.68</td>\n",
       "      <td>2</td>\n",
       "      <td>0</td>\n",
       "      <td>0</td>\n",
       "      <td>1</td>\n",
       "      <td>0</td>\n",
       "      <td>0</td>\n",
       "    </tr>\n",
       "    <tr>\n",
       "      <th>2</th>\n",
       "      <td>0</td>\n",
       "      <td>'C2054744914'</td>\n",
       "      <td>'M1823072687'</td>\n",
       "      <td>'es_transportation'</td>\n",
       "      <td>26.89</td>\n",
       "      <td>4</td>\n",
       "      <td>0</td>\n",
       "      <td>1</td>\n",
       "      <td>0</td>\n",
       "      <td>0</td>\n",
       "      <td>0</td>\n",
       "    </tr>\n",
       "    <tr>\n",
       "      <th>3</th>\n",
       "      <td>0</td>\n",
       "      <td>'C1760612790'</td>\n",
       "      <td>'M348934600'</td>\n",
       "      <td>'es_transportation'</td>\n",
       "      <td>17.25</td>\n",
       "      <td>3</td>\n",
       "      <td>0</td>\n",
       "      <td>0</td>\n",
       "      <td>1</td>\n",
       "      <td>0</td>\n",
       "      <td>0</td>\n",
       "    </tr>\n",
       "    <tr>\n",
       "      <th>4</th>\n",
       "      <td>0</td>\n",
       "      <td>'C757503768'</td>\n",
       "      <td>'M348934600'</td>\n",
       "      <td>'es_transportation'</td>\n",
       "      <td>35.72</td>\n",
       "      <td>5</td>\n",
       "      <td>0</td>\n",
       "      <td>0</td>\n",
       "      <td>1</td>\n",
       "      <td>0</td>\n",
       "      <td>0</td>\n",
       "    </tr>\n",
       "    <tr>\n",
       "      <th>...</th>\n",
       "      <td>...</td>\n",
       "      <td>...</td>\n",
       "      <td>...</td>\n",
       "      <td>...</td>\n",
       "      <td>...</td>\n",
       "      <td>...</td>\n",
       "      <td>...</td>\n",
       "      <td>...</td>\n",
       "      <td>...</td>\n",
       "      <td>...</td>\n",
       "      <td>...</td>\n",
       "    </tr>\n",
       "    <tr>\n",
       "      <th>594638</th>\n",
       "      <td>179</td>\n",
       "      <td>'C1753498738'</td>\n",
       "      <td>'M1823072687'</td>\n",
       "      <td>'es_transportation'</td>\n",
       "      <td>20.53</td>\n",
       "      <td>3</td>\n",
       "      <td>0</td>\n",
       "      <td>1</td>\n",
       "      <td>0</td>\n",
       "      <td>0</td>\n",
       "      <td>11</td>\n",
       "    </tr>\n",
       "    <tr>\n",
       "      <th>594639</th>\n",
       "      <td>179</td>\n",
       "      <td>'C650108285'</td>\n",
       "      <td>'M1823072687'</td>\n",
       "      <td>'es_transportation'</td>\n",
       "      <td>50.73</td>\n",
       "      <td>4</td>\n",
       "      <td>0</td>\n",
       "      <td>1</td>\n",
       "      <td>0</td>\n",
       "      <td>0</td>\n",
       "      <td>11</td>\n",
       "    </tr>\n",
       "    <tr>\n",
       "      <th>594640</th>\n",
       "      <td>179</td>\n",
       "      <td>'C123623130'</td>\n",
       "      <td>'M349281107'</td>\n",
       "      <td>'es_fashion'</td>\n",
       "      <td>22.44</td>\n",
       "      <td>2</td>\n",
       "      <td>0</td>\n",
       "      <td>1</td>\n",
       "      <td>0</td>\n",
       "      <td>0</td>\n",
       "      <td>11</td>\n",
       "    </tr>\n",
       "    <tr>\n",
       "      <th>594641</th>\n",
       "      <td>179</td>\n",
       "      <td>'C1499363341'</td>\n",
       "      <td>'M1823072687'</td>\n",
       "      <td>'es_transportation'</td>\n",
       "      <td>14.46</td>\n",
       "      <td>5</td>\n",
       "      <td>0</td>\n",
       "      <td>0</td>\n",
       "      <td>1</td>\n",
       "      <td>0</td>\n",
       "      <td>11</td>\n",
       "    </tr>\n",
       "    <tr>\n",
       "      <th>594642</th>\n",
       "      <td>179</td>\n",
       "      <td>'C616528518'</td>\n",
       "      <td>'M1823072687'</td>\n",
       "      <td>'es_transportation'</td>\n",
       "      <td>26.93</td>\n",
       "      <td>4</td>\n",
       "      <td>0</td>\n",
       "      <td>1</td>\n",
       "      <td>0</td>\n",
       "      <td>0</td>\n",
       "      <td>11</td>\n",
       "    </tr>\n",
       "  </tbody>\n",
       "</table>\n",
       "<p>594643 rows × 11 columns</p>\n",
       "</div>"
      ],
      "text/plain": [
       "        step       customer       merchant             category  amount  \\\n",
       "0          0  'C1093826151'   'M348934600'  'es_transportation'    4.55   \n",
       "1          0   'C352968107'   'M348934600'  'es_transportation'   39.68   \n",
       "2          0  'C2054744914'  'M1823072687'  'es_transportation'   26.89   \n",
       "3          0  'C1760612790'   'M348934600'  'es_transportation'   17.25   \n",
       "4          0   'C757503768'   'M348934600'  'es_transportation'   35.72   \n",
       "...      ...            ...            ...                  ...     ...   \n",
       "594638   179  'C1753498738'  'M1823072687'  'es_transportation'   20.53   \n",
       "594639   179   'C650108285'  'M1823072687'  'es_transportation'   50.73   \n",
       "594640   179   'C123623130'   'M349281107'         'es_fashion'   22.44   \n",
       "594641   179  'C1499363341'  'M1823072687'  'es_transportation'   14.46   \n",
       "594642   179   'C616528518'  'M1823072687'  'es_transportation'   26.93   \n",
       "\n",
       "        encoded_age  gender_'E'  gender_'F'  gender_'M'  gender_'U'  \\\n",
       "0                 4           0           0           1           0   \n",
       "1                 2           0           0           1           0   \n",
       "2                 4           0           1           0           0   \n",
       "3                 3           0           0           1           0   \n",
       "4                 5           0           0           1           0   \n",
       "...             ...         ...         ...         ...         ...   \n",
       "594638            3           0           1           0           0   \n",
       "594639            4           0           1           0           0   \n",
       "594640            2           0           1           0           0   \n",
       "594641            5           0           0           1           0   \n",
       "594642            4           0           1           0           0   \n",
       "\n",
       "        hour_of_day  \n",
       "0                 0  \n",
       "1                 0  \n",
       "2                 0  \n",
       "3                 0  \n",
       "4                 0  \n",
       "...             ...  \n",
       "594638           11  \n",
       "594639           11  \n",
       "594640           11  \n",
       "594641           11  \n",
       "594642           11  \n",
       "\n",
       "[594643 rows x 11 columns]"
      ]
     },
     "execution_count": 255,
     "metadata": {},
     "output_type": "execute_result"
    }
   ],
   "source": [
    "X"
   ]
  },
  {
   "cell_type": "code",
   "execution_count": 256,
   "metadata": {},
   "outputs": [
    {
     "data": {
      "text/plain": [
       "0    587443\n",
       "1      7200\n",
       "Name: fraud, dtype: int64"
      ]
     },
     "execution_count": 256,
     "metadata": {},
     "output_type": "execute_result"
    }
   ],
   "source": [
    "y.value_counts()"
   ]
  },
  {
   "cell_type": "markdown",
   "metadata": {},
   "source": [
    "2.Normalize or scale numerical features as needed."
   ]
  },
  {
   "cell_type": "code",
   "execution_count": null,
   "metadata": {},
   "outputs": [],
   "source": []
  },
  {
   "cell_type": "markdown",
   "metadata": {},
   "source": [
    "# Model Selection, Training, Evaluation"
   ]
  },
  {
   "cell_type": "code",
   "execution_count": 257,
   "metadata": {},
   "outputs": [],
   "source": [
    "#Encoding other categorical features (customer, merchant, category)\n",
    "\n",
    "label_encoder = LabelEncoder() \n",
    "X['customer'] = label_encoder.fit_transform(X['customer'])\n",
    "X['merchant'] = label_encoder.fit_transform(X['merchant'])\n",
    "X['category'] = label_encoder.fit_transform(X['category'])"
   ]
  },
  {
   "cell_type": "code",
   "execution_count": 258,
   "metadata": {},
   "outputs": [],
   "source": [
    "#Splitting data for training and testing\n",
    "\n",
    "X_train, X_test, y_train, y_test = train_test_split(X,y,test_size=0.3,random_state=42,shuffle=True,stratify=y)"
   ]
  },
  {
   "cell_type": "code",
   "execution_count": 259,
   "metadata": {},
   "outputs": [
    {
     "data": {
      "text/html": [
       "<div>\n",
       "<style scoped>\n",
       "    .dataframe tbody tr th:only-of-type {\n",
       "        vertical-align: middle;\n",
       "    }\n",
       "\n",
       "    .dataframe tbody tr th {\n",
       "        vertical-align: top;\n",
       "    }\n",
       "\n",
       "    .dataframe thead th {\n",
       "        text-align: right;\n",
       "    }\n",
       "</style>\n",
       "<table border=\"1\" class=\"dataframe\">\n",
       "  <thead>\n",
       "    <tr style=\"text-align: right;\">\n",
       "      <th></th>\n",
       "      <th>step</th>\n",
       "      <th>customer</th>\n",
       "      <th>merchant</th>\n",
       "      <th>category</th>\n",
       "      <th>amount</th>\n",
       "      <th>encoded_age</th>\n",
       "      <th>gender_'E'</th>\n",
       "      <th>gender_'F'</th>\n",
       "      <th>gender_'M'</th>\n",
       "      <th>gender_'U'</th>\n",
       "      <th>hour_of_day</th>\n",
       "    </tr>\n",
       "  </thead>\n",
       "  <tbody>\n",
       "    <tr>\n",
       "      <th>542840</th>\n",
       "      <td>166</td>\n",
       "      <td>1363</td>\n",
       "      <td>18</td>\n",
       "      <td>12</td>\n",
       "      <td>54.54</td>\n",
       "      <td>4</td>\n",
       "      <td>0</td>\n",
       "      <td>1</td>\n",
       "      <td>0</td>\n",
       "      <td>0</td>\n",
       "      <td>22</td>\n",
       "    </tr>\n",
       "    <tr>\n",
       "      <th>331166</th>\n",
       "      <td>107</td>\n",
       "      <td>437</td>\n",
       "      <td>30</td>\n",
       "      <td>12</td>\n",
       "      <td>50.16</td>\n",
       "      <td>3</td>\n",
       "      <td>0</td>\n",
       "      <td>1</td>\n",
       "      <td>0</td>\n",
       "      <td>0</td>\n",
       "      <td>11</td>\n",
       "    </tr>\n",
       "    <tr>\n",
       "      <th>534460</th>\n",
       "      <td>163</td>\n",
       "      <td>812</td>\n",
       "      <td>30</td>\n",
       "      <td>12</td>\n",
       "      <td>30.45</td>\n",
       "      <td>1</td>\n",
       "      <td>0</td>\n",
       "      <td>1</td>\n",
       "      <td>0</td>\n",
       "      <td>0</td>\n",
       "      <td>19</td>\n",
       "    </tr>\n",
       "    <tr>\n",
       "      <th>330950</th>\n",
       "      <td>107</td>\n",
       "      <td>1503</td>\n",
       "      <td>18</td>\n",
       "      <td>12</td>\n",
       "      <td>42.08</td>\n",
       "      <td>3</td>\n",
       "      <td>0</td>\n",
       "      <td>1</td>\n",
       "      <td>0</td>\n",
       "      <td>0</td>\n",
       "      <td>11</td>\n",
       "    </tr>\n",
       "    <tr>\n",
       "      <th>24724</th>\n",
       "      <td>9</td>\n",
       "      <td>2909</td>\n",
       "      <td>30</td>\n",
       "      <td>12</td>\n",
       "      <td>51.21</td>\n",
       "      <td>3</td>\n",
       "      <td>0</td>\n",
       "      <td>1</td>\n",
       "      <td>0</td>\n",
       "      <td>0</td>\n",
       "      <td>9</td>\n",
       "    </tr>\n",
       "    <tr>\n",
       "      <th>...</th>\n",
       "      <td>...</td>\n",
       "      <td>...</td>\n",
       "      <td>...</td>\n",
       "      <td>...</td>\n",
       "      <td>...</td>\n",
       "      <td>...</td>\n",
       "      <td>...</td>\n",
       "      <td>...</td>\n",
       "      <td>...</td>\n",
       "      <td>...</td>\n",
       "      <td>...</td>\n",
       "    </tr>\n",
       "    <tr>\n",
       "      <th>52982</th>\n",
       "      <td>20</td>\n",
       "      <td>1674</td>\n",
       "      <td>30</td>\n",
       "      <td>12</td>\n",
       "      <td>11.56</td>\n",
       "      <td>2</td>\n",
       "      <td>0</td>\n",
       "      <td>1</td>\n",
       "      <td>0</td>\n",
       "      <td>0</td>\n",
       "      <td>20</td>\n",
       "    </tr>\n",
       "    <tr>\n",
       "      <th>219940</th>\n",
       "      <td>74</td>\n",
       "      <td>154</td>\n",
       "      <td>45</td>\n",
       "      <td>3</td>\n",
       "      <td>27.88</td>\n",
       "      <td>4</td>\n",
       "      <td>0</td>\n",
       "      <td>1</td>\n",
       "      <td>0</td>\n",
       "      <td>0</td>\n",
       "      <td>2</td>\n",
       "    </tr>\n",
       "    <tr>\n",
       "      <th>20419</th>\n",
       "      <td>8</td>\n",
       "      <td>977</td>\n",
       "      <td>18</td>\n",
       "      <td>12</td>\n",
       "      <td>31.59</td>\n",
       "      <td>3</td>\n",
       "      <td>0</td>\n",
       "      <td>0</td>\n",
       "      <td>1</td>\n",
       "      <td>0</td>\n",
       "      <td>8</td>\n",
       "    </tr>\n",
       "    <tr>\n",
       "      <th>497957</th>\n",
       "      <td>153</td>\n",
       "      <td>2539</td>\n",
       "      <td>45</td>\n",
       "      <td>3</td>\n",
       "      <td>3.77</td>\n",
       "      <td>6</td>\n",
       "      <td>0</td>\n",
       "      <td>0</td>\n",
       "      <td>1</td>\n",
       "      <td>0</td>\n",
       "      <td>9</td>\n",
       "    </tr>\n",
       "    <tr>\n",
       "      <th>86851</th>\n",
       "      <td>32</td>\n",
       "      <td>2270</td>\n",
       "      <td>18</td>\n",
       "      <td>12</td>\n",
       "      <td>1.02</td>\n",
       "      <td>2</td>\n",
       "      <td>0</td>\n",
       "      <td>1</td>\n",
       "      <td>0</td>\n",
       "      <td>0</td>\n",
       "      <td>8</td>\n",
       "    </tr>\n",
       "  </tbody>\n",
       "</table>\n",
       "<p>416250 rows × 11 columns</p>\n",
       "</div>"
      ],
      "text/plain": [
       "        step  customer  merchant  category  amount  encoded_age  gender_'E'  \\\n",
       "542840   166      1363        18        12   54.54            4           0   \n",
       "331166   107       437        30        12   50.16            3           0   \n",
       "534460   163       812        30        12   30.45            1           0   \n",
       "330950   107      1503        18        12   42.08            3           0   \n",
       "24724      9      2909        30        12   51.21            3           0   \n",
       "...      ...       ...       ...       ...     ...          ...         ...   \n",
       "52982     20      1674        30        12   11.56            2           0   \n",
       "219940    74       154        45         3   27.88            4           0   \n",
       "20419      8       977        18        12   31.59            3           0   \n",
       "497957   153      2539        45         3    3.77            6           0   \n",
       "86851     32      2270        18        12    1.02            2           0   \n",
       "\n",
       "        gender_'F'  gender_'M'  gender_'U'  hour_of_day  \n",
       "542840           1           0           0           22  \n",
       "331166           1           0           0           11  \n",
       "534460           1           0           0           19  \n",
       "330950           1           0           0           11  \n",
       "24724            1           0           0            9  \n",
       "...            ...         ...         ...          ...  \n",
       "52982            1           0           0           20  \n",
       "219940           1           0           0            2  \n",
       "20419            0           1           0            8  \n",
       "497957           0           1           0            9  \n",
       "86851            1           0           0            8  \n",
       "\n",
       "[416250 rows x 11 columns]"
      ]
     },
     "execution_count": 259,
     "metadata": {},
     "output_type": "execute_result"
    }
   ],
   "source": [
    "X_train"
   ]
  },
  {
   "cell_type": "code",
   "execution_count": null,
   "metadata": {},
   "outputs": [],
   "source": []
  },
  {
   "cell_type": "markdown",
   "metadata": {},
   "source": [
    "# Machine Learning Algorithms"
   ]
  },
  {
   "cell_type": "code",
   "execution_count": 271,
   "metadata": {},
   "outputs": [],
   "source": [
    "models = {}\n",
    "\n",
    "#Random Forest\n",
    "models['Random Forest'] = RandomForestClassifier()\n",
    "\n",
    "# Logistic Regression\n",
    "models['Logistic Regression'] = LogisticRegression()\n",
    "\n",
    "#Gradient Boosting\n",
    "models['Gradient Boosting'] = GradientBoostingClassifier(n_estimators=100, random_state=42)\n",
    "\n",
    "# K-Nearest Neighbors\n",
    "models['K-Nearest Neighbor'] = KNeighborsClassifier()"
   ]
  },
  {
   "cell_type": "code",
   "execution_count": 272,
   "metadata": {},
   "outputs": [
    {
     "name": "stderr",
     "output_type": "stream",
     "text": [
      "C:\\Users\\omar elayan\\anaconda3\\lib\\site-packages\\sklearn\\linear_model\\_logistic.py:460: ConvergenceWarning: lbfgs failed to converge (status=1):\n",
      "STOP: TOTAL NO. of ITERATIONS REACHED LIMIT.\n",
      "\n",
      "Increase the number of iterations (max_iter) or scale the data as shown in:\n",
      "    https://scikit-learn.org/stable/modules/preprocessing.html\n",
      "Please also refer to the documentation for alternative solver options:\n",
      "    https://scikit-learn.org/stable/modules/linear_model.html#logistic-regression\n",
      "  n_iter_i = _check_optimize_result(\n"
     ]
    }
   ],
   "source": [
    "accuracy, precision, recall, f_score = {}, {}, {}, {}\n",
    "\n",
    "for key in models.keys():\n",
    "    \n",
    "    # Fit the classifier \n",
    "    models[key].fit(X_train, y_train)\n",
    "    \n",
    "    # Prediction \n",
    "    predictions = models[key].predict(X_test)\n",
    "    \n",
    "    # Calculate Accuracy, Precision and Recall Metrics\n",
    "    accuracy[key] = accuracy_score(predictions, y_test)\n",
    "    precision[key] = precision_score(predictions, y_test)\n",
    "    recall[key] = recall_score(predictions, y_test)\n",
    "    f_score[key] = f1_score(predictions, y_test)"
   ]
  },
  {
   "cell_type": "code",
   "execution_count": 273,
   "metadata": {},
   "outputs": [
    {
     "data": {
      "text/html": [
       "<div>\n",
       "<style scoped>\n",
       "    .dataframe tbody tr th:only-of-type {\n",
       "        vertical-align: middle;\n",
       "    }\n",
       "\n",
       "    .dataframe tbody tr th {\n",
       "        vertical-align: top;\n",
       "    }\n",
       "\n",
       "    .dataframe thead th {\n",
       "        text-align: right;\n",
       "    }\n",
       "</style>\n",
       "<table border=\"1\" class=\"dataframe\">\n",
       "  <thead>\n",
       "    <tr style=\"text-align: right;\">\n",
       "      <th></th>\n",
       "      <th>Accuracy</th>\n",
       "      <th>Precision</th>\n",
       "      <th>Recall</th>\n",
       "      <th>F1-Score</th>\n",
       "    </tr>\n",
       "  </thead>\n",
       "  <tbody>\n",
       "    <tr>\n",
       "      <th>Random Forest</th>\n",
       "      <td>0.995706</td>\n",
       "      <td>0.730093</td>\n",
       "      <td>0.896023</td>\n",
       "      <td>0.804592</td>\n",
       "    </tr>\n",
       "    <tr>\n",
       "      <th>Logistic Regression</th>\n",
       "      <td>0.992315</td>\n",
       "      <td>0.510185</td>\n",
       "      <td>0.778799</td>\n",
       "      <td>0.616503</td>\n",
       "    </tr>\n",
       "    <tr>\n",
       "      <th>Gradient Boosting</th>\n",
       "      <td>0.995499</td>\n",
       "      <td>0.712037</td>\n",
       "      <td>0.894706</td>\n",
       "      <td>0.792988</td>\n",
       "    </tr>\n",
       "    <tr>\n",
       "      <th>K-Nearest Neighbor</th>\n",
       "      <td>0.993475</td>\n",
       "      <td>0.594444</td>\n",
       "      <td>0.816794</td>\n",
       "      <td>0.688103</td>\n",
       "    </tr>\n",
       "  </tbody>\n",
       "</table>\n",
       "</div>"
      ],
      "text/plain": [
       "                     Accuracy  Precision    Recall  F1-Score\n",
       "Random Forest        0.995706   0.730093  0.896023  0.804592\n",
       "Logistic Regression  0.992315   0.510185  0.778799  0.616503\n",
       "Gradient Boosting    0.995499   0.712037  0.894706  0.792988\n",
       "K-Nearest Neighbor   0.993475   0.594444  0.816794  0.688103"
      ]
     },
     "execution_count": 273,
     "metadata": {},
     "output_type": "execute_result"
    }
   ],
   "source": [
    "df_models = pd.DataFrame(index=models.keys(), columns=['Accuracy', 'Precision', 'Recall', 'F1-Score'])\n",
    "df_models['Accuracy'] = accuracy.values()\n",
    "df_models['Precision'] = precision.values()\n",
    "df_models['Recall'] = recall.values()\n",
    "df_models['F1-Score'] = f_score.values()\n",
    "\n",
    "df_models"
   ]
  },
  {
   "cell_type": "code",
   "execution_count": 274,
   "metadata": {},
   "outputs": [
    {
     "data": {
      "image/png": "[encoded data removed]",
      "text/plain": [
       "<Figure size 432x288 with 1 Axes>"
      ]
     },
     "metadata": {
      "needs_background": "light"
     },
     "output_type": "display_data"
    }
   ],
   "source": [
    "ax  = df_models.plot.bar(rot=45)\n",
    "ax.legend(ncol= len(models.keys()), bbox_to_anchor=(0, 1), loc='lower left', prop={'size': 10})\n",
    "plt.tight_layout()"
   ]
  },
  {
   "cell_type": "code",
   "execution_count": null,
   "metadata": {},
   "outputs": [],
   "source": []
  },
  {
   "cell_type": "markdown",
   "metadata": {},
   "source": [
    "# Best Models Evaluation and Interpretations"
   ]
  },
  {
   "cell_type": "markdown",
   "metadata": {},
   "source": [
    "#Since we have an imbalanced datasets, it's essential to choose evaluation metrics that are more informative than accuracy\n",
    "#Accuracy can be misleading in such cases \n",
    "#Common evaluation metrics for imbalanced datasets include (precision, recall, F1-score)"
   ]
  },
  {
   "cell_type": "raw",
   "metadata": {},
   "source": [
    "(Precision): measures the ratio of (correctly predicted fraud cases) to the (total predicted fraud cases) \n",
    "-Higher precision indicates fewer false positives (in actual not fraud)"
   ]
  },
  {
   "cell_type": "raw",
   "metadata": {},
   "source": [
    "(Recall): measures the ratio of (correctly predicted fraud cases) to (all actual fraud cases)\n",
    "-Higher recall indicates fewer false negatives (in actual fraud)"
   ]
  },
  {
   "cell_type": "raw",
   "metadata": {},
   "source": [
    "Random Forest:\n",
    "\n",
    "-Recall = 0.896023, indicates that it is effective at capturing a significant portion of fraud cases\n",
    "-Precision = 0.730093, suggests a good balance between identifying fraud and minimizing false positives\n",
    "-F1-score = 0.804592, reflects a good overall performance that balances precision and recall"
   ]
  },
  {
   "cell_type": "raw",
   "metadata": {},
   "source": [
    "Gradient Boosting:\n",
    "\n",
    "-Recall = 0.894706, similar to Random Forest, indicating its effectiveness at identifying fraud cases\n",
    "-precision = 0.712037, suggests it maintains a good balance between fraud detection and false positives\n",
    "-F1-score = 0.792988, reflects a good overall performance that balances precision and recall"
   ]
  },
  {
   "cell_type": "raw",
   "metadata": {},
   "source": [
    "The choice between Random Forest and Gradient Boosting depends on:\n",
    "\n",
    "-Random Forest: The model that's good in detecting fraud (high recall) while also careful not to mistakenly classify non fraud as fraud (high precision)\n",
    "\n",
    "-Gradient Boosting: The model that's good in detecting fraud (high recall) and allowing it a bit of mistakenly classify some non fraud as fraud (lower precision)"
   ]
  },
  {
   "cell_type": "code",
   "execution_count": null,
   "metadata": {},
   "outputs": [],
   "source": []
  },
  {
   "cell_type": "markdown",
   "metadata": {},
   "source": [
    "# Handling Imbalance"
   ]
  },
  {
   "cell_type": "markdown",
   "metadata": {},
   "source": [
    "Since the datasets have an imbalance class problem, SMOTE oversampling technique will performed to generate new minority class samples"
   ]
  },
  {
   "cell_type": "code",
   "execution_count": 275,
   "metadata": {},
   "outputs": [],
   "source": [
    "sm = SMOTE(random_state=42)\n",
    "\n",
    "X_with_over_sampling, y_with_over_sampling = sm.fit_resample(X, y)\n",
    "X_train_with_over_sampling, X_test_with_over_sampling, y_train_with_over_sampling, y_test_with_over_sampling = train_test_split(X_with_over_sampling,y_with_over_sampling,test_size=0.3,random_state=42,shuffle=True,stratify=y_with_over_sampling)"
   ]
  },
  {
   "cell_type": "code",
   "execution_count": 276,
   "metadata": {},
   "outputs": [
    {
     "name": "stderr",
     "output_type": "stream",
     "text": [
      "C:\\Users\\omar elayan\\anaconda3\\lib\\site-packages\\sklearn\\linear_model\\_logistic.py:460: ConvergenceWarning: lbfgs failed to converge (status=1):\n",
      "STOP: TOTAL NO. of ITERATIONS REACHED LIMIT.\n",
      "\n",
      "Increase the number of iterations (max_iter) or scale the data as shown in:\n",
      "    https://scikit-learn.org/stable/modules/preprocessing.html\n",
      "Please also refer to the documentation for alternative solver options:\n",
      "    https://scikit-learn.org/stable/modules/linear_model.html#logistic-regression\n",
      "  n_iter_i = _check_optimize_result(\n"
     ]
    }
   ],
   "source": [
    "accuracy, precision, recall, f_score = {}, {}, {}, {}\n",
    "\n",
    "for key in models.keys():\n",
    "    \n",
    "    #Fit the classifier \n",
    "    models[key].fit(X_train_with_over_sampling, y_train_with_over_sampling)\n",
    "    \n",
    "    #Prediction \n",
    "    predictions = models[key].predict(X_test_with_over_sampling)\n",
    "    \n",
    "    #Calculate Accuracy, Precision and Recall Metrics\n",
    "    accuracy[key] = accuracy_score(predictions, y_test_with_over_sampling)\n",
    "    precision[key] = precision_score(predictions, y_test_with_over_sampling)\n",
    "    recall[key] = recall_score(predictions, y_test_with_over_sampling)\n",
    "    f_score[key] = f1_score(predictions, y_test_with_over_sampling)"
   ]
  },
  {
   "cell_type": "code",
   "execution_count": 277,
   "metadata": {},
   "outputs": [
    {
     "data": {
      "text/html": [
       "<div>\n",
       "<style scoped>\n",
       "    .dataframe tbody tr th:only-of-type {\n",
       "        vertical-align: middle;\n",
       "    }\n",
       "\n",
       "    .dataframe tbody tr th {\n",
       "        vertical-align: top;\n",
       "    }\n",
       "\n",
       "    .dataframe thead th {\n",
       "        text-align: right;\n",
       "    }\n",
       "</style>\n",
       "<table border=\"1\" class=\"dataframe\">\n",
       "  <thead>\n",
       "    <tr style=\"text-align: right;\">\n",
       "      <th></th>\n",
       "      <th>Accuracy</th>\n",
       "      <th>Precision</th>\n",
       "      <th>Recall</th>\n",
       "      <th>F1-Score</th>\n",
       "    </tr>\n",
       "  </thead>\n",
       "  <tbody>\n",
       "    <tr>\n",
       "      <th>Random Forest</th>\n",
       "      <td>0.996227</td>\n",
       "      <td>0.998564</td>\n",
       "      <td>0.993917</td>\n",
       "      <td>0.996235</td>\n",
       "    </tr>\n",
       "    <tr>\n",
       "      <th>Logistic Regression</th>\n",
       "      <td>0.909546</td>\n",
       "      <td>0.887705</td>\n",
       "      <td>0.928252</td>\n",
       "      <td>0.907526</td>\n",
       "    </tr>\n",
       "    <tr>\n",
       "      <th>Gradient Boosting</th>\n",
       "      <td>0.979496</td>\n",
       "      <td>0.986251</td>\n",
       "      <td>0.973104</td>\n",
       "      <td>0.979633</td>\n",
       "    </tr>\n",
       "    <tr>\n",
       "      <th>K-Nearest Neighbor</th>\n",
       "      <td>0.984994</td>\n",
       "      <td>0.998332</td>\n",
       "      <td>0.972393</td>\n",
       "      <td>0.985192</td>\n",
       "    </tr>\n",
       "  </tbody>\n",
       "</table>\n",
       "</div>"
      ],
      "text/plain": [
       "                     Accuracy  Precision    Recall  F1-Score\n",
       "Random Forest        0.996227   0.998564  0.993917  0.996235\n",
       "Logistic Regression  0.909546   0.887705  0.928252  0.907526\n",
       "Gradient Boosting    0.979496   0.986251  0.973104  0.979633\n",
       "K-Nearest Neighbor   0.984994   0.998332  0.972393  0.985192"
      ]
     },
     "execution_count": 277,
     "metadata": {},
     "output_type": "execute_result"
    }
   ],
   "source": [
    "df_models = pd.DataFrame(index=models.keys(), columns=['Accuracy', 'Precision', 'Recall', 'F1-Score'])\n",
    "df_models['Accuracy'] = accuracy.values()\n",
    "df_models['Precision'] = precision.values()\n",
    "df_models['Recall'] = recall.values()\n",
    "df_models['F1-Score'] = f_score.values()\n",
    "\n",
    "df_models"
   ]
  },
  {
   "cell_type": "code",
   "execution_count": 278,
   "metadata": {},
   "outputs": [
    {
     "data": {
      "image/png": "[encoded data removed]",
      "text/plain": [
       "<Figure size 432x288 with 1 Axes>"
      ]
     },
     "metadata": {
      "needs_background": "light"
     },
     "output_type": "display_data"
    }
   ],
   "source": [
    "ax  = df_models.plot.bar(rot=45)\n",
    "ax.legend(ncol= len(models.keys()), bbox_to_anchor=(0, 1), loc='lower left', prop={'size': 10})\n",
    "plt.tight_layout()"
   ]
  },
  {
   "cell_type": "code",
   "execution_count": null,
   "metadata": {},
   "outputs": [],
   "source": []
  },
  {
   "cell_type": "markdown",
   "metadata": {},
   "source": [
    "Random Forest is the best classifier"
   ]
  },
  {
   "cell_type": "markdown",
   "metadata": {},
   "source": [
    "Optimize hyperparameters of the selected model for better performance "
   ]
  },
  {
   "cell_type": "markdown",
   "metadata": {},
   "source": [
    "Optimize hyperparameters for the (Random Forest Classifier) using Grid Search"
   ]
  },
  {
   "cell_type": "code",
   "execution_count": 282,
   "metadata": {},
   "outputs": [],
   "source": [
    "param_grid = {\n",
    "    'n_estimators': [50, 100],\n",
    "    'max_depth': [8, 10],\n",
    "    'class_weight': ['balanced'],\n",
    "    'verbose': [1]\n",
    "}"
   ]
  },
  {
   "cell_type": "code",
   "execution_count": 283,
   "metadata": {
    "scrolled": true
   },
   "outputs": [
    {
     "name": "stderr",
     "output_type": "stream",
     "text": [
      "[Parallel(n_jobs=1)]: Done  49 tasks      | elapsed:  2.8min\n",
      "[Parallel(n_jobs=1)]: Done  49 tasks      | elapsed:    1.9s\n",
      "[Parallel(n_jobs=1)]: Done  49 tasks      | elapsed:  2.7min\n",
      "[Parallel(n_jobs=1)]: Done  49 tasks      | elapsed:    2.0s\n",
      "[Parallel(n_jobs=1)]: Done  49 tasks      | elapsed:  2.6min\n",
      "[Parallel(n_jobs=1)]: Done  49 tasks      | elapsed:    1.9s\n",
      "[Parallel(n_jobs=1)]: Done  49 tasks      | elapsed:  2.6min\n",
      "[Parallel(n_jobs=1)]: Done  49 tasks      | elapsed:    1.9s\n",
      "[Parallel(n_jobs=1)]: Done  49 tasks      | elapsed:  2.7min\n",
      "[Parallel(n_jobs=1)]: Done  49 tasks      | elapsed:    1.8s\n",
      "[Parallel(n_jobs=1)]: Done  49 tasks      | elapsed:  2.9min\n",
      "[Parallel(n_jobs=1)]: Done  49 tasks      | elapsed:    2.2s\n",
      "[Parallel(n_jobs=1)]: Done  49 tasks      | elapsed:  3.4min\n",
      "[Parallel(n_jobs=1)]: Done  49 tasks      | elapsed:    2.3s\n",
      "[Parallel(n_jobs=1)]: Done  49 tasks      | elapsed:  3.1min\n",
      "[Parallel(n_jobs=1)]: Done  49 tasks      | elapsed:    2.4s\n",
      "[Parallel(n_jobs=1)]: Done  49 tasks      | elapsed:  2.8min\n",
      "[Parallel(n_jobs=1)]: Done  49 tasks      | elapsed:    2.0s\n",
      "[Parallel(n_jobs=1)]: Done  49 tasks      | elapsed:  2.7min\n",
      "[Parallel(n_jobs=1)]: Done  49 tasks      | elapsed:    1.8s\n",
      "[Parallel(n_jobs=1)]: Done  49 tasks      | elapsed:  3.1min\n",
      "[Parallel(n_jobs=1)]: Done  49 tasks      | elapsed:    2.1s\n",
      "[Parallel(n_jobs=1)]: Done  49 tasks      | elapsed:  3.2min\n",
      "[Parallel(n_jobs=1)]: Done  49 tasks      | elapsed:    2.3s\n",
      "[Parallel(n_jobs=1)]: Done  49 tasks      | elapsed:  3.2min\n",
      "[Parallel(n_jobs=1)]: Done  49 tasks      | elapsed:    2.1s\n",
      "[Parallel(n_jobs=1)]: Done  49 tasks      | elapsed:  3.2min\n",
      "[Parallel(n_jobs=1)]: Done  49 tasks      | elapsed:    2.1s\n",
      "[Parallel(n_jobs=1)]: Done  49 tasks      | elapsed:  3.1min\n",
      "[Parallel(n_jobs=1)]: Done  49 tasks      | elapsed:    2.3s\n",
      "[Parallel(n_jobs=1)]: Done  49 tasks      | elapsed:  3.1min\n",
      "[Parallel(n_jobs=1)]: Done  49 tasks      | elapsed:    2.2s\n",
      "[Parallel(n_jobs=1)]: Done  49 tasks      | elapsed:  3.2min\n",
      "[Parallel(n_jobs=1)]: Done  49 tasks      | elapsed:    2.1s\n",
      "[Parallel(n_jobs=1)]: Done  49 tasks      | elapsed:  3.2min\n",
      "[Parallel(n_jobs=1)]: Done  49 tasks      | elapsed:    2.1s\n",
      "[Parallel(n_jobs=1)]: Done  49 tasks      | elapsed:  3.2min\n",
      "[Parallel(n_jobs=1)]: Done  49 tasks      | elapsed:    2.1s\n",
      "[Parallel(n_jobs=1)]: Done  49 tasks      | elapsed:  3.1min\n",
      "[Parallel(n_jobs=1)]: Done  49 tasks      | elapsed:    2.1s\n",
      "[Parallel(n_jobs=1)]: Done  49 tasks      | elapsed:  4.0min\n",
      "[Parallel(n_jobs=1)]: Done  49 tasks      | elapsed:  4.0min\n",
      "[Parallel(n_jobs=1)]: Done  49 tasks      | elapsed:    4.6s\n"
     ]
    }
   ],
   "source": [
    "rf_classifier = RandomForestClassifier(random_state=42)\n",
    "\n",
    "#GridSearchCV\n",
    "grid_search = GridSearchCV(estimator=rf_classifier, param_grid=param_grid, cv=5, scoring='accuracy')\n",
    "\n",
    "grid_search.fit(X_train_with_over_sampling, y_train_with_over_sampling)\n",
    "\n",
    "best_hyperparameters = grid_search.best_params_\n",
    "\n",
    "best_rf_classifier = RandomForestClassifier(**best_hyperparameters, random_state=42)\n",
    "\n",
    "best_rf_classifier.fit(X_train_with_over_sampling, y_train_with_over_sampling)\n",
    "y_pred = best_rf_classifier.predict(X_test_with_over_sampling)\n"
   ]
  },
  {
   "cell_type": "code",
   "execution_count": 292,
   "metadata": {},
   "outputs": [
    {
     "name": "stdout",
     "output_type": "stream",
     "text": [
      "Accuracy: 0.983476420420693\n",
      "Precision: 0.9717883266241785\n",
      "Recall: 0.9958634307989991\n",
      "F1 Score: 0.9836785938480854\n",
      "Confusion Matrix:\n",
      " [[171138   5095]\n",
      " [   729 175504]]\n",
      "Classification Report:\n",
      "               precision    recall  f1-score   support\n",
      "\n",
      "      Benign       1.00      0.97      0.98    176233\n",
      "       Fraud       0.97      1.00      0.98    176233\n",
      "\n",
      "    accuracy                           0.98    352466\n",
      "   macro avg       0.98      0.98      0.98    352466\n",
      "weighted avg       0.98      0.98      0.98    352466\n",
      "\n"
     ]
    }
   ],
   "source": [
    "optimized_rf_accuracy = accuracy_score(y_test_with_over_sampling, y_pred)\n",
    "optimized_rf_precision = precision_score(y_test_with_over_sampling, y_pred)\n",
    "optimized_rf_recall = recall_score(y_test_with_over_sampling, y_pred)\n",
    "optimized_rf_f1 = f1_score(y_test_with_over_sampling, y_pred)\n",
    "optimized_rf_confusion = confusion_matrix(y_test_with_over_sampling, y_pred)\n",
    "class_names = ['Benign', 'Fraud']\n",
    "optimized_rf_classification_report = classification_report(y_test_with_over_sampling, y_pred, target_names=class_names)\n",
    "\n",
    "print(\"Accuracy:\", optimized_rf_accuracy)\n",
    "print(\"Precision:\", optimized_rf_precision)\n",
    "print(\"Recall:\", optimized_rf_recall)\n",
    "print(\"F1 Score:\", optimized_rf_f1)\n",
    "print(\"Confusion Matrix:\\n\", optimized_rf_confusion)\n",
    "print(\"Classification Report:\\n\", optimized_rf_classification_report)"
   ]
  },
  {
   "cell_type": "code",
   "execution_count": 290,
   "metadata": {},
   "outputs": [
    {
     "data": {
      "text/plain": [
       "Text(69.0, 0.5, 'Truth')"
      ]
     },
     "execution_count": 290,
     "metadata": {},
     "output_type": "execute_result"
    },
    {
     "data": {
      "image/png": "[encoded data removed]",
      "text/plain": [
       "<Figure size 720x504 with 2 Axes>"
      ]
     },
     "metadata": {
      "needs_background": "light"
     },
     "output_type": "display_data"
    }
   ],
   "source": [
    "#plotting Confusion Matrix in another way\n",
    "\n",
    "plt.figure(figsize = (10,7))\n",
    "class_names = ['Benign', 'Fraud'] \n",
    "cm = confusion_matrix(y_test_with_over_sampling, y_pred)\n",
    "sn.heatmap(cm, annot=True, fmt=\".1f\", xticklabels=class_names, yticklabels=class_names)\n",
    "plt.xlabel('Predicted')\n",
    "plt.ylabel('Truth')"
   ]
  },
  {
   "cell_type": "code",
   "execution_count": null,
   "metadata": {},
   "outputs": [],
   "source": []
  }
 ],
 "metadata": {
  "kernelspec": {
   "display_name": "Python 3",
   "language": "python",
   "name": "python3"
  },
  "language_info": {
   "codemirror_mode": {
    "name": "ipython",
    "version": 3
   },
   "file_extension": ".py",
   "mimetype": "text/x-python",
   "name": "python",
   "nbconvert_exporter": "python",
   "pygments_lexer": "ipython3",
   "version": "3.8.3"
  }
 },
 "nbformat": 4,
 "nbformat_minor": 4
}
